{
  "nbformat": 4,
  "nbformat_minor": 0,
  "metadata": {
    "colab": {
      "provenance": [],
      "authorship_tag": "ABX9TyML+ZR2cRVIBXJRPimcnpbj"
    },
    "kernelspec": {
      "name": "python3",
      "display_name": "Python 3"
    },
    "language_info": {
      "name": "python"
    }
  },
  "cells": [
    {
      "cell_type": "code",
      "execution_count": null,
      "metadata": {
        "id": "sOwuFehv6GXa",
        "colab": {
          "base_uri": "https://localhost:8080/"
        },
        "outputId": "78b539b6-123b-4fbb-abe5-5469c480feeb"
      },
      "outputs": [
        {
          "output_type": "stream",
          "name": "stdout",
          "text": [
            "Addition: 15\n",
            "Subtraction: 5\n",
            "Multiplication: 50\n",
            "Division: 2.0\n"
          ]
        }
      ],
      "source": [
        "class Calc:\n",
        "    def __init__(self,a,b):\n",
        "        self.a=a\n",
        "        self.b=b\n",
        "    def add(self):\n",
        "        return self.a+self.b\n",
        "    def sub(self):\n",
        "        return self.a-self.b\n",
        "    @classmethod\n",
        "    def mul(cls,a,b):\n",
        "        return a*b\n",
        "    @staticmethod\n",
        "    def div(a,b):\n",
        "        return a/b\n",
        "a=10\n",
        "b=5\n",
        "calc_instance=Calc(a,b)\n",
        "print(\"Addition:\",calc_instance.add())\n",
        "print(\"Subtraction:\",calc_instance.sub())\n",
        "print(\"Multiplication:\",Calc.mul(a,b))\n",
        "print(\"Division:\",Calc.div(a,b))"
      ]
    },
    {
      "cell_type": "code",
      "source": [
        "class Calculator:\n",
        "    def __init__(self, a, b):\n",
        "        self.a = a\n",
        "        self.b = b\n",
        "    def add(self):\n",
        "        return self.a + self.b\n",
        "    def subtract(self):\n",
        "        return self.a - self.b\n",
        "    @classmethod\n",
        "    def multiply(cls, a, b):\n",
        "        return a * b\n",
        "    @staticmethod\n",
        "    def divide(a, b):\n",
        "        if b == 0:\n",
        "            return \"Division by zero is not allowed\"\n",
        "        return a / b\n",
        "def get_input():\n",
        "    a = float(input(\"Enter first number: \"))\n",
        "    b = float(input(\"Enter second number: \"))\n",
        "    return a, b\n",
        "def main():\n",
        "    a, b = get_input()\n",
        "    calc = Calculator(a, b)\n",
        "    print(f\"Addition: {calc.add()}\")\n",
        "    print(f\"Subtraction: {calc.subtract()}\")\n",
        "    print(f\"Multiplication: {Calculator.multiply(a, b)}\")\n",
        "    print(f\"Division: {Calculator.divide(a, b)}\")\n",
        "if __name__ == \"__main__\":\n",
        "    main()"
      ],
      "metadata": {
        "id": "K86iFtYUt9lh"
      },
      "execution_count": null,
      "outputs": []
    }
  ]
}