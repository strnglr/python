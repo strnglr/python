{
  "nbformat": 4,
  "nbformat_minor": 0,
  "metadata": {
    "colab": {
      "provenance": [],
      "authorship_tag": "ABX9TyOsKuTSIm+Xdq4RuXKMa5vu"
    },
    "kernelspec": {
      "name": "python3",
      "display_name": "Python 3"
    },
    "language_info": {
      "name": "python"
    }
  },
  "cells": [
    {
      "cell_type": "code",
      "execution_count": null,
      "metadata": {
        "colab": {
          "base_uri": "https://localhost:8080/"
        },
        "id": "RX0A4eMj09cx",
        "outputId": "c3466879-3336-4451-f7b0-267fdf274296"
      },
      "outputs": [
        {
          "output_type": "stream",
          "name": "stdout",
          "text": [
            "enter first name:aayush\n",
            "enter middle name:manish\n",
            "enter last name:dedhia \n",
            "aayush manish dedhia \n"
          ]
        }
      ],
      "source": [
        "fname=input(\"enter first name:\")\n",
        "mname=input(\"enter middle name:\")\n",
        "lname=input(\"enter last name:\")\n",
        "print(fname,mname,lname)"
      ]
    },
    {
      "cell_type": "code",
      "source": [
        "fname=input(\"enter first name:\")\n",
        "mname=input(\"enter middle name:\")\n",
        "lname=input(\"enter last name:\")\n",
        "\" \".join([fname,mname,lname])"
      ],
      "metadata": {
        "colab": {
          "base_uri": "https://localhost:8080/",
          "height": 87
        },
        "id": "fE4TL5GsBfYI",
        "outputId": "1ac80709-2d81-4ea1-f447-f71156a38730"
      },
      "execution_count": null,
      "outputs": [
        {
          "name": "stdout",
          "output_type": "stream",
          "text": [
            "enter first name:aayush\n",
            "enter middle name:manish\n",
            "enter last name:dedhia\n"
          ]
        },
        {
          "output_type": "execute_result",
          "data": {
            "text/plain": [
              "'aayush manish dedhia'"
            ],
            "application/vnd.google.colaboratory.intrinsic+json": {
              "type": "string"
            }
          },
          "metadata": {},
          "execution_count": 15
        }
      ]
    },
    {
      "cell_type": "code",
      "source": [
        "email=input(\"enter email:\")\n",
        "if email.endswith(\"com\"):\n",
        " print(\"valid\")\n",
        "elif email.endswith(\"edu\"):\n",
        " print(\"valid\")\n",
        "elif email.endswith(\"org\"):\n",
        " print(\"valid\")\n",
        "elif email.endswith(\"in\"):\n",
        " print(\"valid\")\n",
        "else:\n",
        " print(\"invalid\")"
      ],
      "metadata": {
        "colab": {
          "base_uri": "https://localhost:8080/"
        },
        "id": "MjCDgWlKCHFD",
        "outputId": "f07064ea-e42e-45c1-db6b-9a0673afd3ac"
      },
      "execution_count": null,
      "outputs": [
        {
          "output_type": "stream",
          "name": "stdout",
          "text": [
            "enter email:dedhiaaayush05@gmail.com\n",
            "valid\n"
          ]
        }
      ]
    },
    {
      "cell_type": "code",
      "source": [
        "name=input(\"enter first name:\")\n",
        "name=name.upper()\n",
        "a=name[0:4]\n",
        "dob=input(\"DDMMYYYY:\")\n",
        "b=dob[0:4]\n",
        "password=a+b\n",
        "print(password)"
      ],
      "metadata": {
        "colab": {
          "base_uri": "https://localhost:8080/"
        },
        "id": "h-R5EhftJz8r",
        "outputId": "441f2563-2ba0-430c-8e93-0607fe9f9dbd"
      },
      "execution_count": null,
      "outputs": [
        {
          "output_type": "stream",
          "name": "stdout",
          "text": [
            "enter first name:aayush\n",
            "DDMMYYYY:11042005\n",
            "AAYU1104\n"
          ]
        }
      ]
    }
  ]
}