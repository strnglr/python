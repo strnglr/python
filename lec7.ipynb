{
  "nbformat": 4,
  "nbformat_minor": 0,
  "metadata": {
    "colab": {
      "provenance": [],
      "authorship_tag": "ABX9TyPaNjEqg3KehZj4bQ38QeeE"
    },
    "kernelspec": {
      "name": "python3",
      "display_name": "Python 3"
    },
    "language_info": {
      "name": "python"
    }
  },
  "cells": [
    {
      "cell_type": "code",
      "execution_count": null,
      "metadata": {
        "id": "Ekh-p3IOc3oF",
        "colab": {
          "base_uri": "https://localhost:8080/"
        },
        "outputId": "b41aa21b-d845-4ced-a31f-f2eec1c09869"
      },
      "outputs": [
        {
          "output_type": "stream",
          "name": "stdout",
          "text": [
            "1  \n",
            "2 2  \n",
            "3 3 3  \n",
            "4 4 4 4  \n",
            "5 5 5 5 5  \n",
            "6 6 6 6 6 6  \n",
            "7 7 7 7 7 7 7  \n",
            "8 8 8 8 8 8 8 8  \n",
            "9 9 9 9 9 9 9 9 9  \n"
          ]
        }
      ],
      "source": [
        "\n",
        "p=1\n",
        "while p<10:\n",
        " q=1\n",
        " while q<=p:\n",
        "  print(p,end=\" \")\n",
        "  q+=1\n",
        " p+=1\n",
        " print(\" \")"
      ]
    },
    {
      "cell_type": "code",
      "source": [
        "for num in range(10):\n",
        " if num>5:\n",
        "  print(\"stop processing\")\n",
        "  break\n",
        " print(num)"
      ],
      "metadata": {
        "colab": {
          "base_uri": "https://localhost:8080/"
        },
        "id": "4N50F0MnhHuj",
        "outputId": "6828cde7-2a3f-4917-d3e4-d8be700c0b6e"
      },
      "execution_count": null,
      "outputs": [
        {
          "output_type": "stream",
          "name": "stdout",
          "text": [
            "0\n",
            "1\n",
            "2\n",
            "3\n",
            "4\n",
            "5\n",
            "stop processing\n"
          ]
        }
      ]
    },
    {
      "cell_type": "code",
      "source": [
        "for num in range(10):\n",
        " if num%2!=0:\n",
        "\n",
        "  continue\n",
        " print(num)"
      ],
      "metadata": {
        "colab": {
          "base_uri": "https://localhost:8080/"
        },
        "id": "kncki4Ukky8G",
        "outputId": "a51460cf-9f0c-4ab4-e809-cd3d47c18cb8"
      },
      "execution_count": null,
      "outputs": [
        {
          "output_type": "stream",
          "name": "stdout",
          "text": [
            "0\n",
            "2\n",
            "4\n",
            "6\n",
            "8\n"
          ]
        }
      ]
    },
    {
      "cell_type": "code",
      "source": [
        "course=input(\"enter course: \")\n",
        "if course==\"bscit\":\n",
        " per=float(input(\"enter 12th percentage: \"))\n",
        " sub=input(\"enter subject: \")\n",
        " if sub==\"math\" and per>=45:\n",
        "  print(\"you are eligible\")\n",
        "else:\n",
        " print(\"not eligible\")"
      ],
      "metadata": {
        "colab": {
          "base_uri": "https://localhost:8080/"
        },
        "id": "8c8BYD6MlTV1",
        "outputId": "3787b1c0-2a96-420b-86bd-a5410197e5f4"
      },
      "execution_count": null,
      "outputs": [
        {
          "output_type": "stream",
          "name": "stdout",
          "text": [
            "enter course: bscit\n",
            "enter 12th percentage: 55\n",
            "enter subjectmath\n",
            "you are eligible\n"
          ]
        }
      ]
    },
    {
      "cell_type": "code",
      "source": [
        "def Test():\n",
        " print(\"test\")\n",
        "Test()"
      ],
      "metadata": {
        "colab": {
          "base_uri": "https://localhost:8080/"
        },
        "id": "n2a2F3AXru3Q",
        "outputId": "fcaf8710-013c-482d-ad5a-0446045e5418"
      },
      "execution_count": null,
      "outputs": [
        {
          "output_type": "stream",
          "name": "stdout",
          "text": [
            "test\n"
          ]
        }
      ]
    },
    {
      "cell_type": "code",
      "source": [
        "def add(a,b):\n",
        " print(a+b)\n",
        "add(30,39)"
      ],
      "metadata": {
        "colab": {
          "base_uri": "https://localhost:8080/"
        },
        "id": "uzQhZv2IwJk3",
        "outputId": "dbf5564e-5077-46db-cc4d-28c7bef9dd37"
      },
      "execution_count": null,
      "outputs": [
        {
          "output_type": "stream",
          "name": "stdout",
          "text": [
            "69\n"
          ]
        }
      ]
    },
    {
      "cell_type": "code",
      "source": [
        "def num(a):\n",
        " for num in range(a):\n",
        "  print(num)\n",
        "num(11)"
      ],
      "metadata": {
        "colab": {
          "base_uri": "https://localhost:8080/"
        },
        "id": "pWnQzcqixAKe",
        "outputId": "d89dc9d6-5209-4875-94ea-224c30d659b0"
      },
      "execution_count": null,
      "outputs": [
        {
          "output_type": "stream",
          "name": "stdout",
          "text": [
            "0\n",
            "1\n",
            "2\n",
            "3\n",
            "4\n",
            "5\n",
            "6\n",
            "7\n",
            "8\n",
            "9\n",
            "10\n"
          ]
        }
      ]
    },
    {
      "cell_type": "code",
      "source": [
        "def admission(course=input(\"enter course: \")):\n",
        " if course==\"bscit\":\n",
        "  per=float(input(\"enter 12th percentage: \"))\n",
        "  sub=input(\"enter subject: \")\n",
        "  if sub==\"math\" and per>=45:\n",
        "    print(\"you are eligible\")\n",
        " else:\n",
        "  print(\"not eligible\")\n",
        "admission()"
      ],
      "metadata": {
        "colab": {
          "base_uri": "https://localhost:8080/"
        },
        "id": "kEWJiw4fyeg2",
        "outputId": "b3ecfdae-d369-4160-cbc4-b44dfba7a271"
      },
      "execution_count": null,
      "outputs": [
        {
          "output_type": "stream",
          "name": "stdout",
          "text": [
            "enter course: 22\n",
            "not eligible\n"
          ]
        }
      ]
    }
  ]
}