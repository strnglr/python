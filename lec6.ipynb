{
  "nbformat": 4,
  "nbformat_minor": 0,
  "metadata": {
    "colab": {
      "provenance": [],
      "authorship_tag": "ABX9TyNnCTr4kqzKKl2+0lHvqFF+"
    },
    "kernelspec": {
      "name": "python3",
      "display_name": "Python 3"
    },
    "language_info": {
      "name": "python"
    }
  },
  "cells": [
    {
      "cell_type": "code",
      "execution_count": null,
      "metadata": {
        "colab": {
          "base_uri": "https://localhost:8080/"
        },
        "id": "AsvIqtvxuZgT",
        "outputId": "16627bde-be20-4d5f-b37e-2e616ccc2d20"
      },
      "outputs": [
        {
          "output_type": "stream",
          "name": "stdout",
          "text": [
            "test\n",
            "1\n",
            "2\n",
            "3\n"
          ]
        }
      ],
      "source": [
        "l1=[\"test\",1,2,3]\n",
        "for i in l1:\n",
        " print(i)"
      ]
    },
    {
      "cell_type": "code",
      "source": [
        "for i in range(1 , 11):\n",
        " print(i)"
      ],
      "metadata": {
        "colab": {
          "base_uri": "https://localhost:8080/"
        },
        "id": "2h2Vw2rwwj5f",
        "outputId": "a0f14edd-bbd9-4ac5-b144-8b60010afcf9"
      },
      "execution_count": null,
      "outputs": [
        {
          "output_type": "stream",
          "name": "stdout",
          "text": [
            "1\n",
            "2\n",
            "3\n",
            "4\n",
            "5\n",
            "6\n",
            "7\n",
            "8\n",
            "9\n",
            "10\n"
          ]
        }
      ]
    },
    {
      "cell_type": "code",
      "source": [
        "for i in range (0,11,2):\n",
        " print(i)"
      ],
      "metadata": {
        "colab": {
          "base_uri": "https://localhost:8080/"
        },
        "id": "9lNewh5NzsXM",
        "outputId": "6b1eef15-0846-4f7c-ee3c-72611ce247bb"
      },
      "execution_count": null,
      "outputs": [
        {
          "output_type": "stream",
          "name": "stdout",
          "text": [
            "0\n",
            "2\n",
            "4\n",
            "6\n",
            "8\n",
            "10\n"
          ]
        }
      ]
    },
    {
      "cell_type": "code",
      "source": [
        "print(list(range(10)))"
      ],
      "metadata": {
        "colab": {
          "base_uri": "https://localhost:8080/"
        },
        "id": "SaJJmSt8xqBj",
        "outputId": "62c43b5e-faf4-4bac-faf4-55bc6f2689f5"
      },
      "execution_count": null,
      "outputs": [
        {
          "output_type": "stream",
          "name": "stdout",
          "text": [
            "[0, 1, 2, 3, 4, 5, 6, 7, 8, 9]\n"
          ]
        }
      ]
    },
    {
      "cell_type": "code",
      "source": [
        "print(list(range(0,10,2)))"
      ],
      "metadata": {
        "colab": {
          "base_uri": "https://localhost:8080/"
        },
        "id": "mGH107yizJzQ",
        "outputId": "e6e2675f-e5df-4d6c-d5bb-61b70c470f17"
      },
      "execution_count": null,
      "outputs": [
        {
          "output_type": "stream",
          "name": "stdout",
          "text": [
            "[0, 2, 4, 6, 8]\n"
          ]
        }
      ]
    },
    {
      "cell_type": "code",
      "source": [
        "print(list(range(0,101,5)))"
      ],
      "metadata": {
        "colab": {
          "base_uri": "https://localhost:8080/"
        },
        "id": "5fUGL0UlzZgZ",
        "outputId": "5d7c12b0-1c33-47c6-b29f-7de466dad838"
      },
      "execution_count": null,
      "outputs": [
        {
          "output_type": "stream",
          "name": "stdout",
          "text": [
            "[0, 5, 10, 15, 20, 25, 30, 35, 40, 45, 50, 55, 60, 65, 70, 75, 80, 85, 90, 95, 100]\n"
          ]
        }
      ]
    },
    {
      "cell_type": "code",
      "source": [
        "i=0\n",
        "while i<11:\n",
        " print(i)\n",
        " i=i+1"
      ],
      "metadata": {
        "colab": {
          "base_uri": "https://localhost:8080/"
        },
        "id": "uU1wzIaSz2Y4",
        "outputId": "45b97059-cf19-4b92-b11e-e7142a791690"
      },
      "execution_count": null,
      "outputs": [
        {
          "output_type": "stream",
          "name": "stdout",
          "text": [
            "0\n",
            "1\n",
            "2\n",
            "3\n",
            "4\n",
            "5\n",
            "6\n",
            "7\n",
            "8\n",
            "9\n",
            "10\n"
          ]
        }
      ]
    },
    {
      "cell_type": "code",
      "source": [
        "a=\"test\"\n",
        "print(len(a))"
      ],
      "metadata": {
        "colab": {
          "base_uri": "https://localhost:8080/"
        },
        "id": "TtN5kgxS1SDG",
        "outputId": "5f4ca93d-806d-4f52-c500-9ed522d9397a"
      },
      "execution_count": null,
      "outputs": [
        {
          "output_type": "stream",
          "name": "stdout",
          "text": [
            "4\n"
          ]
        }
      ]
    },
    {
      "cell_type": "code",
      "source": [
        "city = ['pune', 'mumbai', 'delhi']\n",
        "for i in range(len(city)):\n",
        " print (\"I like\", city[i])"
      ],
      "metadata": {
        "colab": {
          "base_uri": "https://localhost:8080/"
        },
        "id": "KgXgtrYl2gGB",
        "outputId": "6a8b7a07-176b-46ac-ecc6-df678e20d17d"
      },
      "execution_count": null,
      "outputs": [
        {
          "output_type": "stream",
          "name": "stdout",
          "text": [
            "I like pune\n",
            "I like mumbai\n",
            "I like delhi\n"
          ]
        }
      ]
    },
    {
      "cell_type": "code",
      "source": [
        "city=[\"pune\",\"mumbai\",\"delhi\"]\n",
        "for i in city:\n",
        " print(\"i like\",i)"
      ],
      "metadata": {
        "colab": {
          "base_uri": "https://localhost:8080/"
        },
        "id": "bwnTIuH03Oag",
        "outputId": "7e59984b-d2bd-495f-b175-877b1fd1591b"
      },
      "execution_count": null,
      "outputs": [
        {
          "output_type": "stream",
          "name": "stdout",
          "text": [
            "i like pune\n",
            "i like mumbai\n",
            "i like delhi\n"
          ]
        }
      ]
    },
    {
      "cell_type": "code",
      "source": [
        "for i in range(11):\n",
        " print(i)\n",
        "else:\n",
        " print(\"for loop ended\")"
      ],
      "metadata": {
        "colab": {
          "base_uri": "https://localhost:8080/"
        },
        "id": "P1i7vh333-0U",
        "outputId": "d1d57574-f370-4c95-fd45-a8f58bd68068"
      },
      "execution_count": null,
      "outputs": [
        {
          "output_type": "stream",
          "name": "stdout",
          "text": [
            "0\n",
            "1\n",
            "2\n",
            "3\n",
            "4\n",
            "5\n",
            "6\n",
            "7\n",
            "8\n",
            "9\n",
            "10\n",
            "for loop ended\n"
          ]
        }
      ]
    },
    {
      "cell_type": "code",
      "source": [
        "for i in range(10):\n",
        " print(i)\n",
        " if i==8:\n",
        "  break\n",
        " else:\n",
        "  print(\"loop ended\")"
      ],
      "metadata": {
        "colab": {
          "base_uri": "https://localhost:8080/"
        },
        "id": "G92i199M6oIz",
        "outputId": "63a075db-6ade-45cf-afed-2c972edf7c61"
      },
      "execution_count": null,
      "outputs": [
        {
          "output_type": "stream",
          "name": "stdout",
          "text": [
            "0\n",
            "loop ended\n",
            "1\n",
            "loop ended\n",
            "2\n",
            "loop ended\n",
            "3\n",
            "loop ended\n",
            "4\n",
            "loop ended\n",
            "5\n",
            "loop ended\n",
            "6\n",
            "loop ended\n",
            "7\n",
            "loop ended\n",
            "8\n"
          ]
        }
      ]
    },
    {
      "cell_type": "code",
      "source": [
        "counter=0\n",
        "while counter<3:\n",
        " print(\"while loop no\",counter)\n",
        " counter=counter+1\n",
        "else:\n",
        " print(\"while ended\")"
      ],
      "metadata": {
        "colab": {
          "base_uri": "https://localhost:8080/"
        },
        "id": "dynzWWo78x81",
        "outputId": "1325335f-993e-406f-af7b-e3dc7758a8d5"
      },
      "execution_count": null,
      "outputs": [
        {
          "output_type": "stream",
          "name": "stdout",
          "text": [
            "while loop no 0\n",
            "while loop no 1\n",
            "while loop no 2\n",
            "while ended\n"
          ]
        }
      ]
    },
    {
      "cell_type": "code",
      "source": [
        "a=int(input(\"enter no: \"))\n",
        "for i in range(1,11):\n",
        " print(a,\"x\",i,\"=\",a*i)"
      ],
      "metadata": {
        "colab": {
          "base_uri": "https://localhost:8080/"
        },
        "id": "UCWzMsuD-nsX",
        "outputId": "c23a24d4-9b59-4786-f29a-3ed9a78dc0a8"
      },
      "execution_count": null,
      "outputs": [
        {
          "output_type": "stream",
          "name": "stdout",
          "text": [
            "enter no: 2\n",
            "2 x 1 = 2\n",
            "2 x 2 = 4\n",
            "2 x 3 = 6\n",
            "2 x 4 = 8\n",
            "2 x 5 = 10\n",
            "2 x 6 = 12\n",
            "2 x 7 = 14\n",
            "2 x 8 = 16\n",
            "2 x 9 = 18\n",
            "2 x 10 = 20\n"
          ]
        }
      ]
    },
    {
      "cell_type": "code",
      "source": [
        "a=int(input(\"enter no: \"))\n",
        "i=0\n",
        "while i in range(0,11):\n",
        " print(a,\"x\",i,\"=\",a*i)\n",
        " i=i+1"
      ],
      "metadata": {
        "colab": {
          "base_uri": "https://localhost:8080/"
        },
        "id": "Ul0bu3LUCosI",
        "outputId": "c870224c-40f0-4d4e-86e1-83018f736092"
      },
      "execution_count": null,
      "outputs": [
        {
          "output_type": "stream",
          "name": "stdout",
          "text": [
            "enter no: 8\n",
            "8 x 0 = 0\n",
            "8 x 1 = 8\n",
            "8 x 2 = 16\n",
            "8 x 3 = 24\n",
            "8 x 4 = 32\n",
            "8 x 5 = 40\n",
            "8 x 6 = 48\n",
            "8 x 7 = 56\n",
            "8 x 8 = 64\n",
            "8 x 9 = 72\n",
            "8 x 10 = 80\n"
          ]
        }
      ]
    },
    {
      "cell_type": "code",
      "source": [
        "a=int(input(\"enter no: \"))\n",
        "if a>10:\n",
        " print(\"invalid\")\n",
        "else:\n",
        " i=0\n",
        " while i in range(0,11):\n",
        "  print(a,\"x\",i,\"=\",a*i)\n",
        "  i=i+1"
      ],
      "metadata": {
        "id": "BvWXje4HGnb3"
      },
      "execution_count": null,
      "outputs": []
    }
  ]
}