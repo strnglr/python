{
  "nbformat": 4,
  "nbformat_minor": 0,
  "metadata": {
    "colab": {
      "provenance": [],
      "authorship_tag": "ABX9TyPvcdVnDZ/KblHfPwbc3fYm"
    },
    "kernelspec": {
      "name": "python3",
      "display_name": "Python 3"
    },
    "language_info": {
      "name": "python"
    }
  },
  "cells": [
    {
      "cell_type": "code",
      "execution_count": null,
      "metadata": {
        "colab": {
          "base_uri": "https://localhost:8080/"
        },
        "id": "CoiPGLpRZAIs",
        "outputId": "2fd425e8-2cee-4cf2-8d61-525fe12bb265"
      },
      "outputs": [
        {
          "output_type": "stream",
          "name": "stdout",
          "text": [
            "hello\n",
            "how are you?\n"
          ]
        }
      ],
      "source": [
        "print(\"\"\"hello\n",
        "how are you?\"\"\");"
      ]
    },
    {
      "cell_type": "code",
      "source": [
        "age=18\n",
        "if(age>18):\n",
        " print(\"eligible\")\n",
        "else:\n",
        " print(\"not eligible\")\n",
        "print(\"apply\")"
      ],
      "metadata": {
        "colab": {
          "base_uri": "https://localhost:8080/"
        },
        "id": "Mb5lT9OzkA61",
        "outputId": "82122ae0-d8b9-4387-9715-7612f9f73dc0"
      },
      "execution_count": null,
      "outputs": [
        {
          "output_type": "stream",
          "name": "stdout",
          "text": [
            "not eligible\n",
            "apply\n"
          ]
        }
      ]
    },
    {
      "cell_type": "code",
      "source": [
        "a=int(input(\"enter no 1: \"))\n",
        "b=int(input(\"enter no 2: \"))\n",
        "if(a>b):\n",
        " print(\"greater no is:\",a)\n",
        "elif(b>a):\n",
        " print(\"greater no is:\",b)\n",
        "else:\n",
        " print(\"invalid/same no.\")"
      ],
      "metadata": {
        "colab": {
          "base_uri": "https://localhost:8080/"
        },
        "id": "TapHVCNMllId",
        "outputId": "992237dd-4c9f-45cc-a3ca-9d5ba1f1077f"
      },
      "execution_count": null,
      "outputs": [
        {
          "output_type": "stream",
          "name": "stdout",
          "text": [
            "enter no 1: 20\n",
            "enter no 2: 20\n",
            "invalid/same no.\n"
          ]
        }
      ]
    },
    {
      "cell_type": "code",
      "source": [
        "a=10\n",
        "b='l'\n",
        "if(a:=b):\n",
        " print('success')\n",
        "else:\n",
        " print('fail')"
      ],
      "metadata": {
        "colab": {
          "base_uri": "https://localhost:8080/"
        },
        "id": "xNJbEkvdoaB-",
        "outputId": "88b460b7-1a03-4316-9d03-3acf96bffba4"
      },
      "execution_count": null,
      "outputs": [
        {
          "output_type": "stream",
          "name": "stdout",
          "text": [
            "success\n"
          ]
        }
      ]
    },
    {
      "cell_type": "code",
      "source": [
        "a = int(input(\"Math: \"))\n",
        "b = int(input(\"Physics: \"))\n",
        "c = int(input(\"Chemistry: \"))\n",
        "d = int(input(\"Biology: \"))\n",
        "e = int(input(\"EVS: \"))\n",
        "percentage = (a + b + c + d + e) / 5\n",
        "print(\"Percentage =\",percentage)\n",
        "if(0<percentage<35):\n",
        "    print(\"Fail\")\n",
        "elif(35<=percentage<40):\n",
        "    print(\"Pass\")\n",
        "elif(40<=percentage<60):\n",
        "    print(\"Second class\")\n",
        "elif(60<=percentage<75):\n",
        "    print(\"First class\")\n",
        "elif(percentage>=75):\n",
        "    print(\"Distinction\")\n",
        "else:\n",
        "    print(\"Invalid\")"
      ],
      "metadata": {
        "colab": {
          "base_uri": "https://localhost:8080/"
        },
        "id": "jVnn6I9WqGM8",
        "outputId": "6033feed-c870-49ff-af36-fd396b804af9"
      },
      "execution_count": null,
      "outputs": [
        {
          "output_type": "stream",
          "name": "stdout",
          "text": [
            "Math: -1\n",
            "Physics: -1\n",
            "Chemistry: -1\n",
            "Biology: -1\n",
            "EVS: -1\n",
            "Percentage = -1.0\n",
            "Invalid\n"
          ]
        }
      ]
    }
  ]
}