{
  "nbformat": 4,
  "nbformat_minor": 0,
  "metadata": {
    "colab": {
      "provenance": [],
      "authorship_tag": "ABX9TyOAl1iumVljeL43El7p4Bex"
    },
    "kernelspec": {
      "name": "python3",
      "display_name": "Python 3"
    },
    "language_info": {
      "name": "python"
    }
  },
  "cells": [
    {
      "cell_type": "code",
      "execution_count": 1,
      "metadata": {
        "id": "MWdSb1vl3HZe",
        "colab": {
          "base_uri": "https://localhost:8080/"
        },
        "outputId": "5bf071b5-7f50-403e-f0e9-41769e753013"
      },
      "outputs": [
        {
          "output_type": "stream",
          "name": "stdout",
          "text": [
            "{'sub1': 'ppc', 'sub2': 'dla', 'sub3': 'fdbms', 'sub4': 'clds', 'sub5': 'tcs'}\n",
            "{'sub1': 'python', 'sub2': 'ap', 'sub3': 'os', 'sub4': 'cn', 'sub5': 'ds'}\n",
            "{'sub1': 'sub1', 'sub2': 'sub2', 'sub3': 'sub3', 'sub4': 'sub4', 'sub5': 'sub5'}\n",
            "ppc\n",
            "dla\n",
            "fdbms\n",
            "clds\n",
            "tcs\n",
            "{'sub1': 'cpp', 'sub2': 'dla', 'sub3': 'fdbms', 'sub4': 'clds', 'sub5': 'tcs'}\n"
          ]
        }
      ],
      "source": [
        "bsc_it = {\n",
        "    \"fy\": {\n",
        "        \"sub1\":\"ppc\",\n",
        "        \"sub2\":\"dla\",\n",
        "        \"sub3\":\"fdbms\",\n",
        "        \"sub4\":\"clds\",\n",
        "        \"sub5\":\"tcs\"\n",
        "\n",
        "    },\n",
        "    \"sy\": {\n",
        "        \"sub1\":\"python\",\n",
        "        \"sub2\":\"ap\",\n",
        "        \"sub3\":\"os\",\n",
        "        \"sub4\":\"cn\",\n",
        "        \"sub5\":\"ds\"\n",
        "    },\n",
        "    \"ty\": {\n",
        "        \"sub1\":\"sub1\",\n",
        "        \"sub2\":\"sub2\",\n",
        "        \"sub3\":\"sub3\",\n",
        "        \"sub4\":\"sub4\",\n",
        "        \"sub5\":\"sub5\"\n",
        "    }\n",
        "}\n",
        "print(bsc_it[\"fy\"])\n",
        "print(bsc_it[\"sy\"])\n",
        "print(bsc_it[\"ty\"])\n",
        "\n",
        "for sub in bsc_it[\"fy\"].values():\n",
        " print(sub)\n",
        "\n",
        "bsc_it[\"fy\"][\"sub1\"]=\"cpp\"\n",
        "print(bsc_it[\"fy\"])"
      ]
    },
    {
      "cell_type": "code",
      "source": [
        "bsc_it={\n",
        "    \"fy\":{\n",
        "        \"sem1\":{\n",
        "            \"sub1\":\"ppc\",\n",
        "            \"sub2\":\"dla\",\n",
        "            \"sub3\":\"fdbms\",\n",
        "            \"sub4\":\"clds\",\n",
        "            \"sub5\":\"tcs\"\n",
        "        },\n",
        "        \"sem2\": {\n",
        "            \"sub1\":\"c++\",\n",
        "            \"sub2\":\"wd\",\n",
        "            \"sub3\":\"git\",\n",
        "            \"sub4\":\"mpmc\",\n",
        "            \"sub5\":\"maths\"\n",
        "        }\n",
        "    },\n",
        "    \"sy\":{\n",
        "        \"sem3\":{\n",
        "            \"sub1\":\"python\",\n",
        "            \"sub2\":\"cn\",\n",
        "            \"sub3\":\"os\",\n",
        "            \"sub4\":\"ds\",\n",
        "            \"sub5\":\"am\"\n",
        "        },\n",
        "        \"sem4\":{\n",
        "            \"sub1\":\"java\",\n",
        "            \"sub2\":\"es\",\n",
        "            \"sub3\":\"cost\",\n",
        "            \"sub4\":\"se\",\n",
        "            \"sub5\":\"cg\"\n",
        "        }\n",
        "    },\n",
        "    \"ty\":{\n",
        "        \"sem5\":{\n",
        "            \"sub1\":\"sub1\",\n",
        "            \"sub2\":\"sub2\",\n",
        "            \"sub3\":\"sub3\",\n",
        "            \"sub4\":\"sub4\",\n",
        "            \"sub5\":\"sub5\"\n",
        "        },\n",
        "        \"sem6\":{\n",
        "            \"sub1\":\"sub1\",\n",
        "            \"sub2\":\"sub2\",\n",
        "            \"sub3\":\"sub3\",\n",
        "            \"sub4\":\"sub4\",\n",
        "            \"sub5\":\"sub5\"\n",
        "        }\n",
        "    }\n",
        "}\n",
        "\n",
        "print(bsc_it)\n",
        "\n",
        "for sub in bsc_it[\"sy\"][\"sem4\"].values():\n",
        " print(sub)\n",
        "\n",
        "bsc_it[\"ty\"][\"sem6\"][\"sub1\"]=\"test\"\n",
        "print(bsc_it[\"ty\"][\"sem6\"])"
      ],
      "metadata": {
        "colab": {
          "base_uri": "https://localhost:8080/"
        },
        "id": "1Sgh-s44BjqQ",
        "outputId": "a5ee1c3f-2832-48e5-888f-11dde7b15e74"
      },
      "execution_count": null,
      "outputs": [
        {
          "output_type": "stream",
          "name": "stdout",
          "text": [
            "{'fy': {'sem1': {'sub1': 'ppc', 'sub2': 'dla', 'sub3': 'fdbms', 'sub4': 'clds', 'sub5': 'tcs'}, 'sem2': {'sub1': 'c++', 'sub2': 'wd', 'sub3': 'git', 'sub4': 'mpmc', 'sub5': 'maths'}}, 'sy': {'sem3': {'sub1': 'python', 'sub2': 'cn', 'sub3': 'os', 'sub4': 'ds', 'sub5': 'am'}, 'sem4': {'sub1': 'java', 'sub2': 'es', 'sub3': 'cost', 'sub4': 'se', 'sub5': 'cg'}}, 'ty': {'sem5': {'sub1': 'sub1', 'sub2': 'sub2', 'sub3': 'sub3', 'sub4': 'sub4', 'sub5': 'sub5'}, 'sem6': {'sub1': 'sub1', 'sub2': 'sub2', 'sub3': 'sub3', 'sub4': 'sub4', 'sub5': 'sub5'}}}\n",
            "java\n",
            "es\n",
            "cost\n",
            "se\n",
            "cg\n",
            "{'sub1': 'test', 'sub2': 'sub2', 'sub3': 'sub3', 'sub4': 'sub4', 'sub5': 'sub5'}\n"
          ]
        }
      ]
    }
  ]
}