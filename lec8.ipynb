{
  "nbformat": 4,
  "nbformat_minor": 0,
  "metadata": {
    "colab": {
      "provenance": [],
      "authorship_tag": "ABX9TyNgoUArLj98YBUR0CH+AapG"
    },
    "kernelspec": {
      "name": "python3",
      "display_name": "Python 3"
    },
    "language_info": {
      "name": "python"
    }
  },
  "cells": [
    {
      "cell_type": "code",
      "execution_count": null,
      "metadata": {
        "colab": {
          "base_uri": "https://localhost:8080/"
        },
        "id": "cR6BS-mwK_g7",
        "outputId": "68bcc4a1-19e6-4ee9-d3b8-916ce74a9775"
      },
      "outputs": [
        {
          "output_type": "stream",
          "name": "stdout",
          "text": [
            "Enter choice\n",
            " 1: Addition \n",
            " 2: Subtraction \n",
            " 3: Multiplication \n",
            " 4: Division\n",
            "3\n",
            "num1: 30\n",
            "num2: 1\n",
            "Ans is: 30\n"
          ]
        }
      ],
      "source": [
        "def add(a,b):\n",
        " return a+b\n",
        "def sub(a,b):\n",
        " return a-b\n",
        "def mul(a,b):\n",
        " return a*b\n",
        "def div(a,b):\n",
        " return a/b\n",
        "c=int(input('''Enter choice\n",
        " 1: Addition\n",
        " 2: Subtraction\n",
        " 3: Multiplication\n",
        " 4: Division\n",
        "'''))\n",
        "num1=int(input(\"num1: \"))\n",
        "num2=int(input(\"num2: \"))\n",
        "if c==1:\n",
        " sum=add(num1,num2)\n",
        " print(\"Ans is:\",sum)\n",
        "elif c==2:\n",
        " ans=sub(num1,num2)\n",
        " print(\"Ans is:\",ans)\n",
        "elif c==3:\n",
        " product=mul(num1,num2)\n",
        " print(\"Ans is:\",product)\n",
        "elif c==4:\n",
        " quotient=div(num1,num2)\n",
        " print(\"Ans is:\",quotient)\n",
        "else:\n",
        " print(\"Invalid choice\")"
      ]
    },
    {
      "cell_type": "code",
      "source": [
        "def max(a,b):\n",
        " if a > b:\n",
        "  print(a)\n",
        " else:\n",
        "  print(b)\n",
        "x,y,z=10,20,30\n",
        "print(max(x,max(y,z)))"
      ],
      "metadata": {
        "colab": {
          "base_uri": "https://localhost:8080/",
          "height": 436
        },
        "collapsed": true,
        "id": "6k9lPLVIXEhV",
        "outputId": "ccc38b25-2d06-4a06-faa9-8e8b37dc304f"
      },
      "execution_count": null,
      "outputs": [
        {
          "output_type": "stream",
          "name": "stdout",
          "text": [
            "30\n"
          ]
        },
        {
          "output_type": "error",
          "ename": "TypeError",
          "evalue": "'>' not supported between instances of 'int' and 'NoneType'",
          "traceback": [
            "\u001b[0;31m---------------------------------------------------------------------------\u001b[0m",
            "\u001b[0;31mTypeError\u001b[0m                                 Traceback (most recent call last)",
            "\u001b[0;32m<ipython-input-47-efbea2951c9c>\u001b[0m in \u001b[0;36m<cell line: 7>\u001b[0;34m()\u001b[0m\n\u001b[1;32m      5\u001b[0m   \u001b[0mprint\u001b[0m\u001b[0;34m(\u001b[0m\u001b[0mb\u001b[0m\u001b[0;34m)\u001b[0m\u001b[0;34m\u001b[0m\u001b[0;34m\u001b[0m\u001b[0m\n\u001b[1;32m      6\u001b[0m \u001b[0mx\u001b[0m\u001b[0;34m,\u001b[0m\u001b[0my\u001b[0m\u001b[0;34m,\u001b[0m\u001b[0mz\u001b[0m\u001b[0;34m=\u001b[0m\u001b[0;36m10\u001b[0m\u001b[0;34m,\u001b[0m\u001b[0;36m20\u001b[0m\u001b[0;34m,\u001b[0m\u001b[0;36m30\u001b[0m\u001b[0;34m\u001b[0m\u001b[0;34m\u001b[0m\u001b[0m\n\u001b[0;32m----> 7\u001b[0;31m \u001b[0mprint\u001b[0m\u001b[0;34m(\u001b[0m\u001b[0mmax\u001b[0m\u001b[0;34m(\u001b[0m\u001b[0mx\u001b[0m\u001b[0;34m,\u001b[0m\u001b[0mmax\u001b[0m\u001b[0;34m(\u001b[0m\u001b[0my\u001b[0m\u001b[0;34m,\u001b[0m\u001b[0mz\u001b[0m\u001b[0;34m)\u001b[0m\u001b[0;34m)\u001b[0m\u001b[0;34m)\u001b[0m\u001b[0;34m\u001b[0m\u001b[0;34m\u001b[0m\u001b[0m\n\u001b[0m\u001b[1;32m      8\u001b[0m \u001b[0;31m#print(max(\u001b[0m\u001b[0;34m\u001b[0m\u001b[0;34m\u001b[0m\u001b[0m\n\u001b[1;32m      9\u001b[0m \u001b[0;31m#print(max(a,z))\u001b[0m\u001b[0;34m\u001b[0m\u001b[0;34m\u001b[0m\u001b[0m\n",
            "\u001b[0;32m<ipython-input-47-efbea2951c9c>\u001b[0m in \u001b[0;36mmax\u001b[0;34m(a, b)\u001b[0m\n\u001b[1;32m      1\u001b[0m \u001b[0;32mdef\u001b[0m \u001b[0mmax\u001b[0m\u001b[0;34m(\u001b[0m\u001b[0ma\u001b[0m\u001b[0;34m,\u001b[0m\u001b[0mb\u001b[0m\u001b[0;34m)\u001b[0m\u001b[0;34m:\u001b[0m\u001b[0;34m\u001b[0m\u001b[0;34m\u001b[0m\u001b[0m\n\u001b[0;32m----> 2\u001b[0;31m  \u001b[0;32mif\u001b[0m \u001b[0ma\u001b[0m \u001b[0;34m>\u001b[0m \u001b[0mb\u001b[0m\u001b[0;34m:\u001b[0m\u001b[0;34m\u001b[0m\u001b[0;34m\u001b[0m\u001b[0m\n\u001b[0m\u001b[1;32m      3\u001b[0m   \u001b[0mprint\u001b[0m\u001b[0;34m(\u001b[0m\u001b[0ma\u001b[0m\u001b[0;34m)\u001b[0m\u001b[0;34m\u001b[0m\u001b[0;34m\u001b[0m\u001b[0m\n\u001b[1;32m      4\u001b[0m  \u001b[0;32melse\u001b[0m\u001b[0;34m:\u001b[0m\u001b[0;34m\u001b[0m\u001b[0;34m\u001b[0m\u001b[0m\n\u001b[1;32m      5\u001b[0m   \u001b[0mprint\u001b[0m\u001b[0;34m(\u001b[0m\u001b[0mb\u001b[0m\u001b[0;34m)\u001b[0m\u001b[0;34m\u001b[0m\u001b[0;34m\u001b[0m\u001b[0m\n",
            "\u001b[0;31mTypeError\u001b[0m: '>' not supported between instances of 'int' and 'NoneType'"
          ]
        }
      ]
    },
    {
      "cell_type": "code",
      "source": [
        "def add(a,b):\n",
        " return a+b\n",
        "x=add(10,add(20,30))\n",
        "add(20,x)"
      ],
      "metadata": {
        "colab": {
          "base_uri": "https://localhost:8080/"
        },
        "id": "zeEB_rqadweI",
        "outputId": "6908da5d-29be-4921-9c66-895c76f35b00"
      },
      "execution_count": null,
      "outputs": [
        {
          "output_type": "execute_result",
          "data": {
            "text/plain": [
              "80"
            ]
          },
          "metadata": {},
          "execution_count": 49
        }
      ]
    },
    {
      "cell_type": "code",
      "source": [
        "def add(a,b):\n",
        "return a+b\n",
        "def sub(a,b):\n",
        "return a-b\n",
        "def mul(a,b):\n",
        "return a*b\n",
        "c=int(input('''Enter choice\n",
        " 1: Addition\n",
        " 2: Subtraction\n",
        " 3: Multiplication\n",
        "'''))\n",
        "num1=int(input(\"num1: \"))\n",
        "num2=int(input(\"num2: \"))\n",
        "if c==1:\n",
        " sum=add(num1,num2)\n",
        " print(\"Ans is:\",sum)\n",
        "elif c==2:\n",
        " ans=sub(num1,num2)\n",
        " print(\"Ans is:\",ans)\n",
        "elif c==3:\n",
        " product=mul(num1,num2)\n",
        " print(\"Ans is:\",product)\n",
        "else:\n",
        " print(\"Invalid choice\")"
      ],
      "metadata": {
        "id": "4R2jUhZaj0yb"
      },
      "execution_count": null,
      "outputs": []
    }
  ]
}