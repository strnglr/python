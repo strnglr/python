{
  "nbformat": 4,
  "nbformat_minor": 0,
  "metadata": {
    "colab": {
      "provenance": [],
      "authorship_tag": "ABX9TyMcYz0NOwbqCLdFI0BlFotq"
    },
    "kernelspec": {
      "name": "python3",
      "display_name": "Python 3"
    },
    "language_info": {
      "name": "python"
    }
  },
  "cells": [
    {
      "cell_type": "code",
      "execution_count": null,
      "metadata": {
        "colab": {
          "base_uri": "https://localhost:8080/"
        },
        "id": "qR4KANn06AwS",
        "outputId": "99514d4d-3b71-4885-dc9e-5468ea3b14b7"
      },
      "outputs": [
        {
          "output_type": "stream",
          "name": "stdout",
          "text": [
            "hello!please enter your name:aayush\n",
            "helloaayush\n",
            "enter your age:19\n",
            "you will turn 100 in2105\n"
          ]
        }
      ],
      "source": [
        "import datetime\n",
        "name=input(\"hello!please enter your name:\")\n",
        "print(\"hello\"+name)\n",
        "age=int(input(\"enter your age:\"))\n",
        "year_now=datetime.datetime.now()\n",
        "print(\"you will turn 100 in\"+str(int(100-age)+int(year_now.year)))"
      ]
    },
    {
      "cell_type": "code",
      "source": [
        "num = int(input(\"Enter a number: \"))\n",
        "if (num % 2) == 0:\n",
        " print(\"{0} is Even\".format(num))\n",
        "else:\n",
        " print(\"{0} is Odd\".format(num))"
      ],
      "metadata": {
        "id": "9aIXvtf5DYKc",
        "colab": {
          "base_uri": "https://localhost:8080/"
        },
        "outputId": "68c761ec-acb1-445c-9c3f-8252e436faa8"
      },
      "execution_count": null,
      "outputs": [
        {
          "output_type": "stream",
          "name": "stdout",
          "text": [
            "Enter a number: 22\n",
            "22 is Even\n"
          ]
        }
      ]
    },
    {
      "cell_type": "code",
      "source": [
        "nterms = 10\n",
        "n1 = 0\n",
        "n2 = 1\n",
        "count = 2\n",
        "if nterms<= 0:\n",
        " print(\"Please enter a positive integer\")\n",
        "elif nterms==1:\n",
        " print(\"Fibonacci sequence upto\",nterms,\":\")\n",
        " print(n1)\n",
        "else:\n",
        " print(\"Fibonacci sequence upto\",nterms,\":\")\n",
        " print(n1,\",\",n2,end=', ')\n",
        " while count <nterms:\n",
        "  nth = n1 + n2\n",
        "  print(nth,end=' , ')\n",
        "  n1 = n2\n",
        "  n2 = nth\n",
        "  count += 1"
      ],
      "metadata": {
        "id": "dYms-N_aDyZh",
        "outputId": "f8e24f4d-14c2-4daf-846f-ee8c93bfe4f4",
        "colab": {
          "base_uri": "https://localhost:8080/"
        }
      },
      "execution_count": null,
      "outputs": [
        {
          "output_type": "stream",
          "name": "stdout",
          "text": [
            "Fibonacci sequence upto 10 :\n",
            "0 , 1, 1 , 2 , 3 , 5 , 8 , 13 , 21 , 34 , "
          ]
        }
      ]
    },
    {
      "cell_type": "code",
      "source": [
        "def reverse_number(number):\n",
        " reverse = 0\n",
        " while(number > 0):\n",
        "  reminder = number %10\n",
        "  reverse = (reverse *10) + reminder\n",
        "  number = number //10\n",
        " print(\"Reverse number is \", reverse)\n",
        "reverse_number(1546)"
      ],
      "metadata": {
        "colab": {
          "base_uri": "https://localhost:8080/"
        },
        "id": "stfFPtdtGwl2",
        "outputId": "c50365f9-b507-49ec-ec5f-39adce7a15b1"
      },
      "execution_count": null,
      "outputs": [
        {
          "output_type": "stream",
          "name": "stdout",
          "text": [
            "Reverse number is  6451\n"
          ]
        }
      ]
    },
    {
      "cell_type": "code",
      "source": [
        "def armstrong(num):\n",
        "    sum = 0\n",
        "    temp = num\n",
        "    while temp > 0:\n",
        "        digit = temp % 10\n",
        "        sum += digit ** 3\n",
        "        temp //= 10\n",
        "    if num == sum:\n",
        "        print(num, \"is an Armstrong number\")\n",
        "    else:\n",
        "        print(num, \"is not an Armstrong number\")\n",
        "\n",
        "def palindrome(num):\n",
        "    n = num\n",
        "    rev = 0\n",
        "    while num != 0:\n",
        "        rev = rev * 10\n",
        "        rev = rev + int(num % 10)\n",
        "        num = int(num / 10)\n",
        "    if n == rev:\n",
        "        print(n, \"is a palindrome number\")\n",
        "    else:\n",
        "        print(n, \"is not a palindrome number\")\n",
        "\n",
        "num = int(input(\"Enter a number to check if it is an Armstrong number or not: \"))\n",
        "armstrong(num)\n",
        "\n",
        "num = int(input(\"Enter a number to check if it is a palindrome or not: \"))\n",
        "palindrome(num)"
      ],
      "metadata": {
        "id": "UgsRcEBzHggF",
        "outputId": "68dcf1e6-6d96-4803-d8bb-c55fe31f0400",
        "colab": {
          "base_uri": "https://localhost:8080/"
        }
      },
      "execution_count": null,
      "outputs": [
        {
          "output_type": "stream",
          "name": "stdout",
          "text": [
            "Enter a number to check if it is an Armstrong number or not: 70\n",
            "70 is not an Armstrong number\n",
            "Enter a number to check if it is a palindrome or not: 70\n",
            "70 is not a palindrome number\n"
          ]
        }
      ]
    }
  ]
}