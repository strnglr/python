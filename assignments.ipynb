{
  "nbformat": 4,
  "nbformat_minor": 0,
  "metadata": {
    "colab": {
      "provenance": [],
      "authorship_tag": "ABX9TyNCpm+aLIuPxY2+8aaCiiGo"
    },
    "kernelspec": {
      "name": "python3",
      "display_name": "Python 3"
    },
    "language_info": {
      "name": "python"
    }
  },
  "cells": [
    {
      "cell_type": "code",
      "source": [
        "import yt_dlp\n",
        "# Enter the url for the download url = input(\"Enter video url: \")\n",
        "ydl_opts = {}\n",
        "with yt_dlp. YoutubeDL(ydl_opts) as ydl: ydl.download([url])\n",
        "print(\"Video downloaded successfully!\")"
      ],
      "metadata": {
        "id": "wI8dcoIhF_93"
      },
      "execution_count": null,
      "outputs": []
    },
    {
      "cell_type": "code",
      "source": [
        "from colorama import Fore\n",
        "print(Fore. RED + \"hello world\")\n",
        "print(Fore. BLUE + \"hello world\")\n",
        "print(Fore. GREEN + \"hello world\")\n",
        "print(Fore. YELLOW + \"CLCODING.COM\")\n",
        "print(Fore. CYAN + \"THANK YOU\")"
      ],
      "metadata": {
        "id": "pCYXQaZLGYyd"
      },
      "execution_count": null,
      "outputs": []
    },
    {
      "cell_type": "code",
      "source": [
        "import barcode from barcode import Code128\n",
        "def generate_barcode(data):\n",
        "    code = Code128(data)\n",
        "    code.save(\"barcode\")\n",
        "    print(\"Barcode generated.\")\n",
        "data = \"1234-5678-9012\"\n",
        "generate_barcode(data)"
      ],
      "metadata": {
        "id": "l7bgBsIOGcer"
      },
      "execution_count": null,
      "outputs": []
    },
    {
      "cell_type": "code",
      "source": [
        "from pdf2docx import Converter\n",
        "pdf_file = 'clcoding.pdf'\n",
        "docx_file = 'clcoding.docx'\n",
        "cv = Converter (pdf_file)\n",
        "cv.convert(docx_file)\n",
        "cv.close()"
      ],
      "metadata": {
        "id": "TJUuw6YnGtg-"
      },
      "execution_count": null,
      "outputs": []
    },
    {
      "cell_type": "code",
      "source": [
        "from faker import Faker\n",
        "fake Faker()\n",
        "print(fake.name())\n",
        "print(fake.address())\n",
        "print(fake.text()\n",
        "print(fake.email())\n",
        "print(fake.country())\n",
        "print(fake.latitude(), fake.longitude())\n",
        "print(fake.url())"
      ],
      "metadata": {
        "id": "2Agg5MoxG54r"
      },
      "execution_count": null,
      "outputs": []
    },
    {
      "cell_type": "code",
      "source": [
        "from PyPDF2 import PdfFileWriter, PdfFileReader\n",
        "writer = PdfFileWriter()\n",
        "file = 'test_file.pdf'\n",
        "reader = PdfFileReader(file)\n",
        "for page in range(reader.numPages): writer.addPage (reader.getPage(page))\n",
        "writer.encrypt('Password')\n",
        "with open(f'test_file.pdf', 'wb') as file:\n",
        "writer.write(file)\n",
        "print('PDF encrypted')"
      ],
      "metadata": {
        "id": "eUcX4IYIHGxn"
      },
      "execution_count": null,
      "outputs": []
    },
    {
      "cell_type": "code",
      "source": [
        "from rembg import remove from PIL import Image\n",
        "input_path = 'masai.jpg'\n",
        "output_path = 'masai.png'\n",
        "inp = Image.open(input_path)\n",
        "output = remove(inp)\n",
        "output.save(output_path)"
      ],
      "metadata": {
        "id": "pPZ4sIaZHQWe"
      },
      "execution_count": null,
      "outputs": []
    },
    {
      "cell_type": "code",
      "source": [
        "from textblob import TextBlob\n",
        "def Convert(string):\n",
        "li= list(string.split())\n",
        "return li\n",
        "str1 = input(\"Enter your word : \")\n",
        "words=Convert(str1)\n",
        "corrected_words = []\n",
        "for i in words:\n",
        "corrected_words.append(TextBlob(i))\n",
        "print(\"Wrong words:\", words)\n",
        "print(\"Corrected Words are :\")\n",
        "for i in corrected_words:\n",
        "print(i.correct(), end=\"\")"
      ],
      "metadata": {
        "id": "-H6HFxQ4HYv0"
      },
      "execution_count": null,
      "outputs": []
    },
    {
      "cell_type": "code",
      "source": [],
      "metadata": {
        "id": "dHu52ScWHg0B"
      },
      "execution_count": null,
      "outputs": []
    }
  ]
}