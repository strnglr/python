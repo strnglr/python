{
  "nbformat": 4,
  "nbformat_minor": 0,
  "metadata": {
    "colab": {
      "provenance": [],
      "authorship_tag": "ABX9TyNTpkc52nUHalXpETUyxaAc"
    },
    "kernelspec": {
      "name": "python3",
      "display_name": "Python 3"
    },
    "language_info": {
      "name": "python"
    }
  },
  "cells": [
    {
      "cell_type": "code",
      "execution_count": null,
      "metadata": {
        "colab": {
          "base_uri": "https://localhost:8080/"
        },
        "id": "Prn9insPHe_n",
        "outputId": "dc9dc8a1-5b9c-49a5-8612-6e4811ada2f4"
      },
      "outputs": [
        {
          "output_type": "execute_result",
          "data": {
            "text/plain": [
              "(0, 1, 4, 9, 16, 25, 36, 49, 64, 81)"
            ]
          },
          "metadata": {},
          "execution_count": 1
        }
      ],
      "source": [
        "tuple(x**2 for x in range(10))"
      ]
    },
    {
      "cell_type": "code",
      "source": [
        "tuple(x**2 for x in range(0,20,2))"
      ],
      "metadata": {
        "colab": {
          "base_uri": "https://localhost:8080/"
        },
        "id": "TzyzuDFYJ7As",
        "outputId": "e3c0c6b8-43a4-4f03-d314-28723cb019fb"
      },
      "execution_count": null,
      "outputs": [
        {
          "output_type": "execute_result",
          "data": {
            "text/plain": [
              "(0, 4, 16, 36, 64, 100, 144, 196, 256, 324)"
            ]
          },
          "metadata": {},
          "execution_count": 11
        }
      ]
    },
    {
      "cell_type": "code",
      "source": [
        "tuple(x*5 for x in range(1,11))"
      ],
      "metadata": {
        "colab": {
          "base_uri": "https://localhost:8080/"
        },
        "id": "5UEhV5GtLDk0",
        "outputId": "59f0d125-bea0-46d0-c8f0-84fee4b21715"
      },
      "execution_count": null,
      "outputs": [
        {
          "output_type": "execute_result",
          "data": {
            "text/plain": [
              "(5, 10, 15, 20, 25, 30, 35, 40, 45, 50)"
            ]
          },
          "metadata": {},
          "execution_count": 18
        }
      ]
    },
    {
      "cell_type": "code",
      "source": [
        "t1=(\"test\")\n",
        "len(t1)"
      ],
      "metadata": {
        "colab": {
          "base_uri": "https://localhost:8080/"
        },
        "id": "OIN-bfUaLp08",
        "outputId": "f4817df7-046d-4bfb-a0fd-7cbad2b07164"
      },
      "execution_count": null,
      "outputs": [
        {
          "output_type": "execute_result",
          "data": {
            "text/plain": [
              "4"
            ]
          },
          "metadata": {},
          "execution_count": 23
        }
      ]
    },
    {
      "cell_type": "code",
      "source": [
        "# creating a dictionary\n",
        "country_capitals = {\n",
        "  \"Germany\": \"Berlin\",\n",
        "  \"Canada\": \"Ottawa\",\n",
        "  \"England\": \"London\"\n",
        "}\n",
        "\n",
        "# printing the dictionary\n",
        "print(country_capitals)"
      ],
      "metadata": {
        "colab": {
          "base_uri": "https://localhost:8080/"
        },
        "id": "6y_mBnlDMQhz",
        "outputId": "de4d0806-736c-432e-ac9b-8d2c494600ba"
      },
      "execution_count": null,
      "outputs": [
        {
          "output_type": "stream",
          "name": "stdout",
          "text": [
            "{'Germany': 'Berlin', 'Canada': 'Ottawa', 'England': 'London'}\n"
          ]
        }
      ]
    },
    {
      "cell_type": "code",
      "source": [
        "student = {\n",
        "    \"rollno\" : 3110,\n",
        "    \"name\" : \"aayush\",\n",
        "    \"email\" : \"abc@xyz.com\"\n",
        "}\n",
        "student[123] = 123456789\n",
        "print(student)\n",
        "del student[123]\n",
        "print(student)"
      ],
      "metadata": {
        "colab": {
          "base_uri": "https://localhost:8080/"
        },
        "id": "MVhoG3fAPJOV",
        "outputId": "bb81c330-9aa4-4839-f7ed-197eb4cc5439"
      },
      "execution_count": null,
      "outputs": [
        {
          "output_type": "stream",
          "name": "stdout",
          "text": [
            "{'rollno': 3110, 'name': 'aayush', 'email': 'abc@xyz.com', 123: 123456789}\n",
            "{'rollno': 3110, 'name': 'aayush', 'email': 'abc@xyz.com'}\n"
          ]
        }
      ]
    },
    {
      "cell_type": "code",
      "source": [
        "vivo_v30pro = {\n",
        "    \"Brand\" : \"VIVO\",\n",
        "    \"OS\" : \"Android 14\",\n",
        "    (\"RAM\",\"Storage\") : ([\"8gb\",\"12gb\"],[\"256gb\",\"512gb\"]),\n",
        "    \"Battery\" : \"5000mah\",\n",
        "    \"Front camera\" : \"50mp\",\n",
        "    \"Rear camera\" : \"50mp,50mp,50mp\",\n",
        "    \"charging\" : \"80W\",\n",
        "    }\n",
        "print(\"Features of VIVO V30 Pro are: \",vivo_v30pro)"
      ],
      "metadata": {
        "colab": {
          "base_uri": "https://localhost:8080/"
        },
        "id": "j_hLJwZ0QXiH",
        "outputId": "85c1bce3-e661-45d6-98f5-595f3658b87c"
      },
      "execution_count": null,
      "outputs": [
        {
          "output_type": "stream",
          "name": "stdout",
          "text": [
            "Features of VIVO V30 Pro are:  {'Brand': 'VIVO', 'OS': 'Android 14', ('RAM', 'Storage'): (['8gb', '12gb'], ['256gb', '512gb']), 'Battery': '5000mah', 'front camera': '50mp', 'rear camera': '50mp,50mp,50mp', 'charging': '80W'}\n"
          ]
        }
      ]
    },
    {
      "cell_type": "code",
      "source": [
        "bookmyshow = {\n",
        "    \"city\" : [\"mum\",\"delhi\",\"navi mum\", \"thane\"],\n",
        "    \"movies\" : [\"stree2\",\"Alien\",\"khel\",\"vedaa\"],\n",
        "    (\"dates\",\"place\",\"showtime\") : ([24,25,26],[\"pvr\",\"cinemax\"],[4.15,6.30,11.30]),\n",
        "    \"seats\" : [\"Platinum\",\"Gold\"],\n",
        "    (\"ticket_charges\",\"Convenience_fees\",\"Sub_total\") : [\"Gold:K-7,K-8\",47.20,447.20]\n",
        "}\n",
        "print(bookmyshow)"
      ],
      "metadata": {
        "colab": {
          "base_uri": "https://localhost:8080/"
        },
        "id": "pXhBzEMOWfdQ",
        "outputId": "0e92d874-6e3f-457e-9827-74163721628d"
      },
      "execution_count": null,
      "outputs": [
        {
          "output_type": "stream",
          "name": "stdout",
          "text": [
            "{'city': ['mum', 'delhi', 'navi mum', 'thane'], 'movies': ['stree2', 'Alien', 'khel', 'vedaa'], ('dates', 'place', 'showtime'): ([24, 25, 26], ['pvr', 'cinemax'], [4.15, 6.3, 11.3]), 'seats': ['Platinum', 'Gold'], ('ticket_charges', 'Convenience_fees', 'Sub_total'): ['Gold:K-7,K-8', 47.2, 447.2]}\n"
          ]
        }
      ]
    },
    {
      "cell_type": "code",
      "source": [
        "flights = {\n",
        "    \"from_city\" :  [\"mum\",\"delhi\",\"chennai\",\"kolkata\"],\n",
        "    \"to_city\" : [\"mum\",\"delhi\",\"chennai\",\"kolkata\"],\n",
        "    \"trip\"  : [\"one way\",\"round trip\"],\n",
        "    (\"dep_date\",\"ret_date\") : ([25,26,27],[1,2,3])\n",
        "\n",
        "\n",
        "}\n",
        "print(flights)"
      ],
      "metadata": {
        "id": "xKRQcvvfW5Gp",
        "outputId": "0a65ca1f-7796-43fe-8207-cde91c5d3098",
        "colab": {
          "base_uri": "https://localhost:8080/"
        }
      },
      "execution_count": null,
      "outputs": [
        {
          "output_type": "stream",
          "name": "stdout",
          "text": [
            "{'from_city': ['mum', 'delhi', 'chennai', 'kolkata'], 'to_city': ['mum', 'delhi', 'chennai', 'kolkata'], 'trip': ['one way', 'round trip'], ('dep_date', 'ret_date'): ([25, 26, 27], [1, 2, 3])}\n"
          ]
        }
      ]
    }
  ]
}