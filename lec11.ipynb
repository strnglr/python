{
  "nbformat": 4,
  "nbformat_minor": 0,
  "metadata": {
    "colab": {
      "provenance": [],
      "authorship_tag": "ABX9TyOGtNbUHPSezrei4wN8UTao"
    },
    "kernelspec": {
      "name": "python3",
      "display_name": "Python 3"
    },
    "language_info": {
      "name": "python"
    }
  },
  "cells": [
    {
      "cell_type": "code",
      "execution_count": null,
      "metadata": {
        "colab": {
          "base_uri": "https://localhost:8080/"
        },
        "id": "c3bH1ypB9g5_",
        "outputId": "58ac55f7-270f-4a8a-f834-6c35c7f40776"
      },
      "outputs": [
        {
          "output_type": "stream",
          "name": "stdout",
          "text": [
            "enter the first number:1\n",
            "enter the second number:2\n",
            "enter the third number:3\n",
            "the first root is: (-0.9999999999999999+1.4142135623730951j)\n",
            "the second root is: (-1-1.4142135623730951j)\n"
          ]
        }
      ],
      "source": [
        "a=int(input(\"enter the first number:\"))\n",
        "b=int(input(\"enter the second number:\"))\n",
        "c=int(input(\"enter the third number:\"))\n",
        "r1=(-b+((b**2)-(4*a*c))**0.5)/(2*a)\n",
        "r2=(-b-((b**2)-(4*a*c))**0.5)/(2*a)\n",
        "print(\"the first root is:\",r1)\n",
        "print(\"the second root is:\",r2)"
      ]
    },
    {
      "cell_type": "code",
      "source": [
        "import cmath\n",
        "a=1\n",
        "b=3\n",
        "c=5\n",
        "d=(b**2)-(4*a*c)\n",
        "sol1="
      ],
      "metadata": {
        "id": "l3v9VH8NNGe3"
      },
      "execution_count": null,
      "outputs": []
    },
    {
      "cell_type": "code",
      "source": [
        "import random\n",
        "print(random.randint(0,9))"
      ],
      "metadata": {
        "colab": {
          "base_uri": "https://localhost:8080/"
        },
        "id": "hH82XhVXHeV2",
        "outputId": "7e97bbde-eb2c-422f-d6f7-e3abecf14edc"
      },
      "execution_count": null,
      "outputs": [
        {
          "output_type": "stream",
          "name": "stdout",
          "text": [
            "3\n"
          ]
        }
      ]
    },
    {
      "cell_type": "code",
      "source": [
        "import calendar\n",
        "year=int(input(\"ener birth year:\"))\n",
        "month=int(input(\"enter birth month:\"))\n",
        "print(calendar.month(year,month))"
      ],
      "metadata": {
        "colab": {
          "base_uri": "https://localhost:8080/"
        },
        "id": "zCWX08IlJ3kE",
        "outputId": "008847c3-3b1b-4d06-9961-19ca3cfb4837"
      },
      "execution_count": null,
      "outputs": [
        {
          "output_type": "stream",
          "name": "stdout",
          "text": [
            "ener birth year:2005\n",
            "enter birth month:04\n",
            "     April 2005\n",
            "Mo Tu We Th Fr Sa Su\n",
            "             1  2  3\n",
            " 4  5  6  7  8  9 10\n",
            "11 12 13 14 15 16 17\n",
            "18 19 20 21 22 23 24\n",
            "25 26 27 28 29 30\n",
            "\n"
          ]
        }
      ]
    }
  ]
}