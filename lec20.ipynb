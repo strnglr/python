{
  "nbformat": 4,
  "nbformat_minor": 0,
  "metadata": {
    "colab": {
      "provenance": [],
      "authorship_tag": "ABX9TyPJ98JO0FDF+atO4Dh5C2f+"
    },
    "kernelspec": {
      "name": "python3",
      "display_name": "Python 3"
    },
    "language_info": {
      "name": "python"
    }
  },
  "cells": [
    {
      "cell_type": "code",
      "execution_count": null,
      "metadata": {
        "id": "xb6BdSTwpB8F",
        "colab": {
          "base_uri": "https://localhost:8080/"
        },
        "outputId": "4cbdcf37-2fc5-4dde-fdf5-2fe2dc3c5001"
      },
      "outputs": [
        {
          "output_type": "stream",
          "name": "stdout",
          "text": [
            "25000\n",
            "10\n",
            "Python\n"
          ]
        }
      ],
      "source": [
        "class Employee:\n",
        "    raise_amt = 1.04\n",
        "    def __init__(self, first, last, pay):\n",
        "        self.first = first\n",
        "        self.last = last\n",
        "        self.email = first + '.' + last + '@bollywood.com'\n",
        "        self.pay = pay\n",
        "class Developer(Employee):\n",
        "    def __init__(self, first, last, pay, prog_lang):\n",
        "        super().__init__(first, last, pay)\n",
        "        self.prog_lang = prog_lang\n",
        "class Manager(Developer):\n",
        "    def __init__(self, first, last, pay, prog_lang, time):\n",
        "        super().__init__(first, last, pay, prog_lang)\n",
        "        self.time = time\n",
        "mgr1 = Manager('Akib', 'Bagwan', 25000, 'Python', 10)\n",
        "print(mgr1.pay)\n",
        "print(mgr1.time)\n",
        "print(mgr1.prog_lang)"
      ]
    },
    {
      "cell_type": "code",
      "source": [
        "class Employee:\n",
        "    raise_amt = 1.04\n",
        "    def __init__(self, first, last, pay):\n",
        "        self.first = first\n",
        "        self.last = last\n",
        "        self.email = first + '.' + last + '@bollywood.com'\n",
        "        self.pay = pay\n",
        "class Developer:\n",
        "    def __init__(self, prog_lang):\n",
        "        self.prog_lang = prog_lang\n",
        "class Manager(Employee, Developer):\n",
        "    def __init__(self, first, last, pay, prog_lang, time):\n",
        "        Employee.__init__(self, first, last, pay)\n",
        "        Developer.__init__(self, prog_lang)\n",
        "        self.time = time\n",
        "mgr1 = Manager('Akib', 'Bagwan', 25000, 'Python', 10)\n",
        "print(mgr1.pay)\n",
        "print(mgr1.time)\n",
        "print(mgr1.prog_lang)"
      ],
      "metadata": {
        "id": "H1728dK6_j8D",
        "outputId": "d228acd6-2970-492d-aa9d-c7970742388d",
        "colab": {
          "base_uri": "https://localhost:8080/"
        }
      },
      "execution_count": null,
      "outputs": [
        {
          "output_type": "stream",
          "name": "stdout",
          "text": [
            "25000\n",
            "10\n",
            "Python\n"
          ]
        }
      ]
    },
    {
      "cell_type": "code",
      "source": [
        "class Hero:\n",
        "    def __init__(self, real_name, reel_name, hero_name):\n",
        "        self.real_name = real_name\n",
        "        self.reel_name = reel_name\n",
        "        self.hero_name = hero_name\n",
        "\n",
        "    def display_name(self):\n",
        "        print(\"Real name :\", self.real_name)\n",
        "        print(\"Reel name :\", self.reel_name)\n",
        "\n",
        "hero = Hero(\"Chris Evans\", \"Steve Rogers\", \"Captain America\")\n",
        "hero.display_name()\n",
        "print(\"Hero name: \", hero.hero_name)"
      ],
      "metadata": {
        "colab": {
          "base_uri": "https://localhost:8080/"
        },
        "id": "-jIxayiQBJsW",
        "outputId": "e81dd5da-8308-4a4d-a4f9-df48e1f30f5e"
      },
      "execution_count": null,
      "outputs": [
        {
          "output_type": "stream",
          "name": "stdout",
          "text": [
            "Real name : Chris Evans\n",
            "Reel name : Steve Rogers\n",
            "Hero name:  Captain America\n"
          ]
        }
      ]
    },
    {
      "cell_type": "code",
      "source": [
        "class Anime:\n",
        "    _rating = \"Best\"\n",
        "    def __init__(self, anime, release_year):\n",
        "        self._anime = anime\n",
        "        self._release_year = release_year\n",
        "\n",
        "    def _show(self):\n",
        "        print(\"Release:\", self._release_year)\n",
        "\n",
        "obj = Anime(\"Naruto\", 2002)\n",
        "print(\"Anime:\", obj._anime)\n",
        "obj._show()"
      ],
      "metadata": {
        "colab": {
          "base_uri": "https://localhost:8080/"
        },
        "id": "YmowwbGhB7tM",
        "outputId": "8380dc89-ae7f-4bc8-aee1-cb1b094298bd"
      },
      "execution_count": null,
      "outputs": [
        {
          "output_type": "stream",
          "name": "stdout",
          "text": [
            "Anime: Naruto\n",
            "Release: 2002\n"
          ]
        }
      ]
    },
    {
      "cell_type": "code",
      "source": [
        "class Superhero:\n",
        "    def __init__(self, name):\n",
        "        self.__name = name\n",
        "\n",
        "    def displayname(self):\n",
        "        print(\"Hero:\", self.__name)\n",
        "\n",
        "obj = Superhero(\"Shaktiman\")\n",
        "obj.displayname()"
      ],
      "metadata": {
        "id": "QEGEPtlICR5j",
        "outputId": "04eb1b0f-2ecb-46be-bb93-ddafcf6c3392",
        "colab": {
          "base_uri": "https://localhost:8080/"
        }
      },
      "execution_count": null,
      "outputs": [
        {
          "output_type": "stream",
          "name": "stdout",
          "text": [
            "Hero: Shaktiman\n"
          ]
        }
      ]
    }
  ]
}