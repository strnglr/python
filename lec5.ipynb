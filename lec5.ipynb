{
  "nbformat": 4,
  "nbformat_minor": 0,
  "metadata": {
    "colab": {
      "provenance": [],
      "authorship_tag": "ABX9TyNtfxYO551QeD0cQYMcxw2D"
    },
    "kernelspec": {
      "name": "python3",
      "display_name": "Python 3"
    },
    "language_info": {
      "name": "python"
    }
  },
  "cells": [
    {
      "cell_type": "code",
      "execution_count": null,
      "metadata": {
        "colab": {
          "base_uri": "https://localhost:8080/"
        },
        "id": "rER2gv0FcGGv",
        "outputId": "51cb5543-b036-4520-e8dd-e16b3d17515b"
      },
      "outputs": [
        {
          "output_type": "stream",
          "name": "stdout",
          "text": [
            "enter age: 69\n",
            "not eligible for job\n"
          ]
        }
      ],
      "source": [
        "age=int(input(\"enter age: \"))\n",
        "if(16<=age<18):\n",
        " print(\"eligible of part time job\")\n",
        "elif(18<=age<65):\n",
        " print(\"eligible for full time job\")\n",
        "elif(100>age<0):\n",
        " print(\"invalid\")\n",
        "else:\n",
        " print(\"not eligible for job\")"
      ]
    },
    {
      "cell_type": "code",
      "source": [
        "a=30\n",
        "b=39\n",
        "print(a)if a>b else print(b)"
      ],
      "metadata": {
        "colab": {
          "base_uri": "https://localhost:8080/"
        },
        "id": "gMIpxKwJjNU2",
        "outputId": "953cd26c-9cb4-4df5-9c5b-f64701d55d37"
      },
      "execution_count": null,
      "outputs": [
        {
          "output_type": "stream",
          "name": "stdout",
          "text": [
            "39\n"
          ]
        }
      ]
    },
    {
      "cell_type": "code",
      "source": [
        "a=10\n",
        "b=20\n",
        "print(a) if(a>b) else print(b) if (a<b) else print(\"equal\")"
      ],
      "metadata": {
        "colab": {
          "base_uri": "https://localhost:8080/"
        },
        "id": "SL6VKQSVkKxD",
        "outputId": "624a0f3f-59da-4467-fbeb-49327160ef80"
      },
      "execution_count": null,
      "outputs": [
        {
          "output_type": "stream",
          "name": "stdout",
          "text": [
            "20\n"
          ]
        }
      ]
    },
    {
      "cell_type": "code",
      "source": [
        "age=int(input(\"enter age: \"))\n",
        "print(\"eligible of part time job\") if(16<=age<18) else print(\"eligible for full time job\") if(18<=age<65) else print(\"invalid\") if(100>age<0) else print(\"not eligible for job\")"
      ],
      "metadata": {
        "id": "8JitmHkLkv7b",
        "colab": {
          "base_uri": "https://localhost:8080/"
        },
        "outputId": "33f02314-1ad4-4b3b-d9f7-7ef1dfe5209a"
      },
      "execution_count": null,
      "outputs": [
        {
          "output_type": "stream",
          "name": "stdout",
          "text": [
            "enter age: -7\n",
            "invalid\n"
          ]
        }
      ]
    },
    {
      "cell_type": "code",
      "source": [
        "num=float(input(\"enter no: \"))\n",
        "if num>=0:\n",
        " if num==0:\n",
        "  print(\"zero\")\n",
        " else:\n",
        "  print(\"positive\")\n",
        "else:\n",
        " print(\"negative\")"
      ],
      "metadata": {
        "colab": {
          "base_uri": "https://localhost:8080/"
        },
        "id": "_ETQ17-Mm9w5",
        "outputId": "c891034e-2d16-48c7-aa74-6bd943eb461c"
      },
      "execution_count": null,
      "outputs": [
        {
          "output_type": "stream",
          "name": "stdout",
          "text": [
            "enter no: 0\n",
            "zero\n"
          ]
        }
      ]
    },
    {
      "cell_type": "code",
      "source": [
        "a=int(input(\"select 1 for mobiles or 2 for laptops: \"))\n",
        "if(a==1):\n",
        " budget=int(input(\"enter budget: \"))\n",
        " if(20000<=budget<=30000):\n",
        "  print(\"vivo,iqoo\")\n",
        " elif(30000<budget<60000):\n",
        "  print(\"oneplus,samsung\")\n",
        " else:\n",
        "  print(\"not available\")\n",
        "elif(a==2):\n",
        " budget=int(input(\"enter budget: \"))\n",
        " if(50000>=budget):\n",
        "  print(\"hp,asus,acer\")\n",
        " elif(50000<budget<=100000):\n",
        "  print(\"dell,lenovo\")\n",
        " elif(budget>150000):\n",
        "  print(\"apple\")\n",
        " else:\n",
        "  print(\"not available\")\n",
        "else:\n",
        " print(\"invalid no\")"
      ],
      "metadata": {
        "colab": {
          "base_uri": "https://localhost:8080/"
        },
        "id": "YbqjMqMOqJO4",
        "outputId": "24ed2655-a86e-413b-c032-ef4a58a73acb"
      },
      "execution_count": null,
      "outputs": [
        {
          "output_type": "stream",
          "name": "stdout",
          "text": [
            "select 1 for mobiles or 2 for laptops: 1\n",
            "enter budget: 40000\n",
            "oneplus,samsung\n"
          ]
        }
      ]
    }
  ]
}