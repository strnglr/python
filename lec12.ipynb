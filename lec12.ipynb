{
  "nbformat": 4,
  "nbformat_minor": 0,
  "metadata": {
    "colab": {
      "provenance": [],
      "authorship_tag": "ABX9TyOd6phKQdjtgi+a+JdIN6CQ"
    },
    "kernelspec": {
      "name": "python3",
      "display_name": "Python 3"
    },
    "language_info": {
      "name": "python"
    }
  },
  "cells": [
    {
      "cell_type": "code",
      "execution_count": null,
      "metadata": {
        "colab": {
          "base_uri": "https://localhost:8080/"
        },
        "id": "M0YyXIp9slXM",
        "outputId": "eb4ff6e6-3781-4752-e246-f1ec6e366d6b"
      },
      "outputs": [
        {
          "output_type": "stream",
          "name": "stdout",
          "text": [
            "G\n",
            "o\n",
            " \n",
            "S\n",
            "p\n",
            "o\n",
            "t\n",
            " \n",
            "G\n",
            "o\n"
          ]
        }
      ],
      "source": [
        "for achar in \"Go Spot Go\":\n",
        " print(achar)"
      ]
    },
    {
      "cell_type": "code",
      "source": [
        "s = \"python rocks\"\n",
        "for ch in s:\n",
        "  print(\"HELLO\")"
      ],
      "metadata": {
        "colab": {
          "base_uri": "https://localhost:8080/"
        },
        "id": "kBYC03nk2pcR",
        "outputId": "fb9c7141-85da-4488-cfb9-f456e031614b"
      },
      "execution_count": null,
      "outputs": [
        {
          "output_type": "stream",
          "name": "stdout",
          "text": [
            "HELLO\n",
            "HELLO\n",
            "HELLO\n",
            "HELLO\n",
            "HELLO\n",
            "HELLO\n",
            "HELLO\n",
            "HELLO\n",
            "HELLO\n",
            "HELLO\n",
            "HELLO\n",
            "HELLO\n"
          ]
        }
      ]
    },
    {
      "cell_type": "code",
      "source": [
        "s = \"python rocks\"\n",
        "for ch in s[3:8]:\n",
        " print(\"HELLO\")"
      ],
      "metadata": {
        "colab": {
          "base_uri": "https://localhost:8080/"
        },
        "id": "2zSGSQSm2-VH",
        "outputId": "2561827a-e0d0-4845-9632-a874e57b0227"
      },
      "execution_count": null,
      "outputs": [
        {
          "output_type": "stream",
          "name": "stdout",
          "text": [
            "HELLO\n",
            "HELLO\n",
            "HELLO\n",
            "HELLO\n",
            "HELLO\n"
          ]
        }
      ]
    },
    {
      "cell_type": "code",
      "source": [
        "s=\"python rocks\"\n",
        "print(s[::-1])"
      ],
      "metadata": {
        "colab": {
          "base_uri": "https://localhost:8080/"
        },
        "id": "NuJCqL6K3fRI",
        "outputId": "25726e5c-a3ed-45e3-8534-07e11d35c59e"
      },
      "execution_count": null,
      "outputs": [
        {
          "output_type": "stream",
          "name": "stdout",
          "text": [
            "skcor nohtyp\n"
          ]
        }
      ]
    },
    {
      "cell_type": "code",
      "source": [
        "s=\"hello world\"\n",
        "print(\"j\"+s[1:6]+\"m\"+s[7:])"
      ],
      "metadata": {
        "colab": {
          "base_uri": "https://localhost:8080/"
        },
        "id": "JCQvG3IN4z-r",
        "outputId": "ddc5854d-9c5d-41a2-f75a-9bdda75de813"
      },
      "execution_count": null,
      "outputs": [
        {
          "output_type": "stream",
          "name": "stdout",
          "text": [
            "jello morld\n"
          ]
        }
      ]
    },
    {
      "cell_type": "code",
      "source": [
        "s=\"hello world\"\n",
        "print(s[0::2])\n",
        "print(s[1::2])\n",
        "print(s[:7:2])\n",
        "print(s[:-1:])\n",
        "print(s[:1:-1])"
      ],
      "metadata": {
        "colab": {
          "base_uri": "https://localhost:8080/"
        },
        "id": "o4wJnU4-5DXy",
        "outputId": "48086722-1749-448a-eb26-14a7047bbc06"
      },
      "execution_count": null,
      "outputs": [
        {
          "output_type": "stream",
          "name": "stdout",
          "text": [
            "hlowrd\n",
            "el ol\n",
            "hlow\n",
            "hello worl\n",
            "dlrow oll\n"
          ]
        }
      ]
    },
    {
      "cell_type": "code",
      "source": [
        "l1=[20,59,400,39]\n",
        "l1[0]=100\n",
        "print(l1[0])"
      ],
      "metadata": {
        "colab": {
          "base_uri": "https://localhost:8080/"
        },
        "id": "FDHDz6Qy8H2q",
        "outputId": "a19ff911-5a05-4167-c6aa-0024ace093a1"
      },
      "execution_count": null,
      "outputs": [
        {
          "output_type": "stream",
          "name": "stdout",
          "text": [
            "100\n"
          ]
        }
      ]
    },
    {
      "cell_type": "code",
      "source": [
        "s=\"hello\"\n",
        "print(s[0])\n",
        "s1=\"t\"+s[1:]\n",
        "print(s1)"
      ],
      "metadata": {
        "colab": {
          "base_uri": "https://localhost:8080/"
        },
        "id": "KQ13pq1u8rNC",
        "outputId": "fe03e51b-99f9-4dc1-8ab7-2cbf04eec704"
      },
      "execution_count": null,
      "outputs": [
        {
          "output_type": "stream",
          "name": "stdout",
          "text": [
            "h\n",
            "tello\n"
          ]
        }
      ]
    },
    {
      "cell_type": "code",
      "source": [
        "s = \"genshin impact\"\n",
        "def test():\n",
        "    for n in s:\n",
        "        if n == \"h\":\n",
        "            print(\"exists\")\n",
        "            break\n",
        "    else:\n",
        "        print(\"doesn't exist\")\n",
        "test()"
      ],
      "metadata": {
        "colab": {
          "base_uri": "https://localhost:8080/"
        },
        "id": "iHmNl1uXCE3z",
        "outputId": "df66b7fb-f633-4330-9ef1-3c289a48755d"
      },
      "execution_count": null,
      "outputs": [
        {
          "output_type": "stream",
          "name": "stdout",
          "text": [
            "exists\n"
          ]
        }
      ]
    },
    {
      "cell_type": "code",
      "source": [
        "s=\"genshin impact\"\n",
        "def test():\n",
        "    count=0\n",
        "    for alpha in s:\n",
        "        if alpha==\"e\":\n",
        "            count=count+1\n",
        "    print(count)\n",
        "test()"
      ],
      "metadata": {
        "colab": {
          "base_uri": "https://localhost:8080/"
        },
        "id": "61AIVTNrCkui",
        "outputId": "8d57a2d8-3b5c-4374-aea1-d515dcaed809"
      },
      "execution_count": null,
      "outputs": [
        {
          "output_type": "stream",
          "name": "stdout",
          "text": [
            "1\n"
          ]
        }
      ]
    }
  ]
}