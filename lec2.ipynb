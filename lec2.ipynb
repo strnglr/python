{
  "nbformat": 4,
  "nbformat_minor": 0,
  "metadata": {
    "colab": {
      "provenance": [],
      "authorship_tag": "ABX9TyM8IfhQYBr/8gsNwlQi1zKs"
    },
    "kernelspec": {
      "name": "python3",
      "display_name": "Python 3"
    },
    "language_info": {
      "name": "python"
    }
  },
  "cells": [
    {
      "cell_type": "code",
      "execution_count": null,
      "metadata": {
        "colab": {
          "base_uri": "https://localhost:8080/"
        },
        "id": "1TvPeQsPyP3K",
        "outputId": "108ef593-cc5c-45be-aef8-3afdb87dbbc7"
      },
      "outputs": [
        {
          "output_type": "stream",
          "name": "stdout",
          "text": [
            "<class 'str'>\n"
          ]
        }
      ],
      "source": [
        "a,b,c,=10,20.5,'test'\n",
        "print(type(c))"
      ]
    },
    {
      "cell_type": "code",
      "source": [
        "a=input(\"enter no:\");\n",
        "print(type(a))"
      ],
      "metadata": {
        "colab": {
          "base_uri": "https://localhost:8080/"
        },
        "id": "JjHOS-TwzXwf",
        "outputId": "f3544271-b309-4f7f-8c6e-d93ce9d13005"
      },
      "execution_count": null,
      "outputs": [
        {
          "output_type": "stream",
          "name": "stdout",
          "text": [
            "enter no:8\n",
            "<class 'str'>\n"
          ]
        }
      ]
    },
    {
      "cell_type": "code",
      "source": [
        "a=int(input(\"no1:\"))\n",
        "b=int(input(\"no2:\"))\n",
        "sum=a+b\n",
        "print(sum)"
      ],
      "metadata": {
        "colab": {
          "base_uri": "https://localhost:8080/"
        },
        "id": "qYQ0xG-R1t6i",
        "outputId": "4a1a1753-0b30-4851-a9be-0539402e692e"
      },
      "execution_count": null,
      "outputs": [
        {
          "output_type": "stream",
          "name": "stdout",
          "text": [
            "no1:30\n",
            "no2:39\n",
            "69\n"
          ]
        }
      ]
    },
    {
      "cell_type": "code",
      "source": [
        "2\n",
        "a=int(input(\"no1:\"))\n",
        "b=int(input(\"no2:\"))\n",
        "print('sum =',a+b)\n",
        "print('sub =',a-b)\n",
        "print('mul =',a*b)\n",
        "print('div =',a/b)"
      ],
      "metadata": {
        "colab": {
          "base_uri": "https://localhost:8080/"
        },
        "collapsed": true,
        "id": "ZECIxcde2zIi",
        "outputId": "1e873576-ff61-40fd-81af-b6cec71d8da7"
      },
      "execution_count": null,
      "outputs": [
        {
          "output_type": "stream",
          "name": "stdout",
          "text": [
            "no1:50\n",
            "no2:40\n",
            "sum = 90\n",
            "sub = 10\n",
            "mul = 2000\n",
            "div = 1.25\n"
          ]
        }
      ]
    },
    {
      "cell_type": "code",
      "source": [
        "sname =\"AAYUSH\";\n",
        "sname[1]"
      ],
      "metadata": {
        "id": "rQywrXQr4z9G",
        "colab": {
          "base_uri": "https://localhost:8080/",
          "height": 35
        },
        "outputId": "ef3ce312-cd1e-41f5-d7ee-48f5e058ac46"
      },
      "execution_count": null,
      "outputs": [
        {
          "output_type": "execute_result",
          "data": {
            "text/plain": [
              "'A'"
            ],
            "application/vnd.google.colaboratory.intrinsic+json": {
              "type": "string"
            }
          },
          "metadata": {},
          "execution_count": 55
        }
      ]
    },
    {
      "cell_type": "code",
      "source": [
        "greet=\"hello world\"\n",
        "(greet[0:5])"
      ],
      "metadata": {
        "colab": {
          "base_uri": "https://localhost:8080/",
          "height": 35
        },
        "id": "DC6C68wL8Nun",
        "outputId": "1328b14b-a95a-486c-d9b8-16bd34aab51e"
      },
      "execution_count": null,
      "outputs": [
        {
          "output_type": "execute_result",
          "data": {
            "text/plain": [
              "'hello world'"
            ],
            "application/vnd.google.colaboratory.intrinsic+json": {
              "type": "string"
            }
          },
          "metadata": {},
          "execution_count": 61
        }
      ]
    },
    {
      "cell_type": "code",
      "source": [
        "greet=\"hello world\"\n",
        "(greet[0:11:2])"
      ],
      "metadata": {
        "colab": {
          "base_uri": "https://localhost:8080/",
          "height": 35
        },
        "id": "VNU9wkQI_JJ0",
        "outputId": "2574dddc-e923-4fae-ab6a-78e02addfa12"
      },
      "execution_count": null,
      "outputs": [
        {
          "output_type": "execute_result",
          "data": {
            "text/plain": [
              "'hlowrd'"
            ],
            "application/vnd.google.colaboratory.intrinsic+json": {
              "type": "string"
            }
          },
          "metadata": {},
          "execution_count": 62
        }
      ]
    },
    {
      "cell_type": "code",
      "source": [
        "greet=\"hello world\"\n",
        "(greet[0:1000])"
      ],
      "metadata": {
        "colab": {
          "base_uri": "https://localhost:8080/",
          "height": 35
        },
        "id": "ifT0h3l0_MuD",
        "outputId": "4aeccb4f-d543-429a-d69d-a9a3cae98a71"
      },
      "execution_count": null,
      "outputs": [
        {
          "output_type": "execute_result",
          "data": {
            "text/plain": [
              "'hello world'"
            ],
            "application/vnd.google.colaboratory.intrinsic+json": {
              "type": "string"
            }
          },
          "metadata": {},
          "execution_count": 63
        }
      ]
    },
    {
      "cell_type": "code",
      "source": [
        "greet=\"hello world\"\n",
        "(greet[1:11:2])"
      ],
      "metadata": {
        "colab": {
          "base_uri": "https://localhost:8080/",
          "height": 35
        },
        "id": "KLrzcUXY_TO4",
        "outputId": "62a370ed-82d5-4e15-8961-427756ea017a"
      },
      "execution_count": null,
      "outputs": [
        {
          "output_type": "execute_result",
          "data": {
            "text/plain": [
              "'el ol'"
            ],
            "application/vnd.google.colaboratory.intrinsic+json": {
              "type": "string"
            }
          },
          "metadata": {},
          "execution_count": 66
        }
      ]
    },
    {
      "cell_type": "code",
      "source": [
        "greet=\"hello world\"\n",
        "(\"z\"+greet[1:6],\"m\"+greet[7:11])"
      ],
      "metadata": {
        "colab": {
          "base_uri": "https://localhost:8080/"
        },
        "id": "oCwJPlHO_x_3",
        "outputId": "7c553e8a-3b66-4b35-ddaa-bccacbe9bade"
      },
      "execution_count": null,
      "outputs": [
        {
          "output_type": "execute_result",
          "data": {
            "text/plain": [
              "('zello ', 'morld')"
            ]
          },
          "metadata": {},
          "execution_count": 73
        }
      ]
    },
    {
      "cell_type": "code",
      "source": [
        " greet=\"hello world\"\n",
        "(\"z\"+greet[-10:-6],\"m\"+greet[-4:])"
      ],
      "metadata": {
        "colab": {
          "base_uri": "https://localhost:8080/"
        },
        "id": "PyZksdS9BaGz",
        "outputId": "3445d687-3067-4578-fbfe-d4665d61a401"
      },
      "execution_count": null,
      "outputs": [
        {
          "output_type": "execute_result",
          "data": {
            "text/plain": [
              "('zello', 'morld')"
            ]
          },
          "metadata": {},
          "execution_count": 83
        }
      ]
    },
    {
      "cell_type": "code",
      "source": [
        " greet=\"hello world\"\n",
        "greet[::-1]"
      ],
      "metadata": {
        "colab": {
          "base_uri": "https://localhost:8080/",
          "height": 35
        },
        "id": "fW2_NfpEDy4w",
        "outputId": "510a06c1-0f53-4436-f02d-50244b2157d9"
      },
      "execution_count": null,
      "outputs": [
        {
          "output_type": "execute_result",
          "data": {
            "text/plain": [
              "'dlrow olleh'"
            ],
            "application/vnd.google.colaboratory.intrinsic+json": {
              "type": "string"
            }
          },
          "metadata": {},
          "execution_count": 84
        }
      ]
    },
    {
      "cell_type": "code",
      "source": [
        "\n",
        "a=2\n",
        "b=3\n",
        "sol=(a**2+b**2+2*a*b)\n",
        "(sol)"
      ],
      "metadata": {
        "colab": {
          "base_uri": "https://localhost:8080/"
        },
        "id": "7s-qo2tDEOz2",
        "outputId": "8905e496-2fac-444e-de22-d50827b40872"
      },
      "execution_count": null,
      "outputs": [
        {
          "output_type": "execute_result",
          "data": {
            "text/plain": [
              "25"
            ]
          },
          "metadata": {},
          "execution_count": 91
        }
      ]
    },
    {
      "cell_type": "code",
      "source": [
        "a=int(input(\"math : \"))\n",
        "b=int(input(\"phy : \"))\n",
        "c=int(input(\"chem : \"))\n",
        "d=int(input(\"bio : \"))\n",
        "e=int(input(\"evs : \"))\n",
        "percentage=(a+b+c+d+e)/5\n",
        "(\"percentage=\",percentage)"
      ],
      "metadata": {
        "colab": {
          "base_uri": "https://localhost:8080/"
        },
        "id": "SrOO6IcsFzoz",
        "outputId": "b2bde835-fba4-4b6f-d75e-b29bed1e9a36"
      },
      "execution_count": null,
      "outputs": [
        {
          "name": "stdout",
          "output_type": "stream",
          "text": [
            "math : 8\n",
            "phy : 8\n",
            "chem : 8\n",
            "bio : 8\n",
            "evs : 8\n"
          ]
        },
        {
          "output_type": "execute_result",
          "data": {
            "text/plain": [
              "('percentage=', 8.0)"
            ]
          },
          "metadata": {},
          "execution_count": 100
        }
      ]
    }
  ]
}