{
  "nbformat": 4,
  "nbformat_minor": 0,
  "metadata": {
    "colab": {
      "provenance": [],
      "authorship_tag": "ABX9TyNIyw1QycLXW3ezcHECM/PP"
    },
    "kernelspec": {
      "name": "python3",
      "display_name": "Python 3"
    },
    "language_info": {
      "name": "python"
    }
  },
  "cells": [
    {
      "cell_type": "code",
      "execution_count": null,
      "metadata": {
        "id": "8V5sKfufIoxM",
        "colab": {
          "base_uri": "https://localhost:8080/"
        },
        "outputId": "7e118036-9ab6-4c68-a460-56bc442fae11"
      },
      "outputs": [
        {
          "output_type": "stream",
          "name": "stdout",
          "text": [
            "69\n"
          ]
        }
      ],
      "source": [
        "a='69'\n",
        "a=int(a)\n",
        "print(a)"
      ]
    },
    {
      "cell_type": "code",
      "source": [
        "a=10\n",
        "b=2.50\n",
        "c=a+b\n",
        "print(c)\n",
        "type(c)"
      ],
      "metadata": {
        "colab": {
          "base_uri": "https://localhost:8080/"
        },
        "id": "7cXKpZPxPwxA",
        "outputId": "fdae16f6-aa89-4ce3-e598-d9b2f349896b"
      },
      "execution_count": null,
      "outputs": [
        {
          "output_type": "stream",
          "name": "stdout",
          "text": [
            "12.5\n"
          ]
        },
        {
          "output_type": "execute_result",
          "data": {
            "text/plain": [
              "float"
            ]
          },
          "metadata": {},
          "execution_count": 10
        }
      ]
    },
    {
      "cell_type": "code",
      "source": [
        "a=10\n",
        "b=str(a)\n",
        "type(b)"
      ],
      "metadata": {
        "colab": {
          "base_uri": "https://localhost:8080/"
        },
        "id": "GDW5U82kQU9_",
        "outputId": "4da61547-1c3d-4aca-966c-6bebbe0c03df"
      },
      "execution_count": null,
      "outputs": [
        {
          "output_type": "execute_result",
          "data": {
            "text/plain": [
              "str"
            ]
          },
          "metadata": {},
          "execution_count": 11
        }
      ]
    },
    {
      "cell_type": "code",
      "source": [
        "a='69'\n",
        "b=int(a)\n",
        "type(b)"
      ],
      "metadata": {
        "colab": {
          "base_uri": "https://localhost:8080/"
        },
        "id": "_D3feZq1QkNg",
        "outputId": "f1c78112-b2d4-4a92-9a5f-477e7761c438"
      },
      "execution_count": null,
      "outputs": [
        {
          "output_type": "execute_result",
          "data": {
            "text/plain": [
              "str"
            ]
          },
          "metadata": {},
          "execution_count": 14
        }
      ]
    },
    {
      "cell_type": "code",
      "source": [
        "a=69.69\n",
        "b=int(a)\n",
        "type(b)\n",
        "print(b)"
      ],
      "metadata": {
        "colab": {
          "base_uri": "https://localhost:8080/"
        },
        "id": "yvRzSgO2RNzU",
        "outputId": "49ea9f92-d5e3-4a7d-aef4-60a42c84dadc"
      },
      "execution_count": null,
      "outputs": [
        {
          "output_type": "stream",
          "name": "stdout",
          "text": [
            "69\n"
          ]
        }
      ]
    },
    {
      "cell_type": "code",
      "source": [
        "a='30'\n",
        "b=39\n",
        "c=a,b\n",
        "print(c)"
      ],
      "metadata": {
        "colab": {
          "base_uri": "https://localhost:8080/"
        },
        "id": "ytJR_B4xRj8a",
        "outputId": "9d125ba8-1e3e-40d6-f085-b69fc122bba3"
      },
      "execution_count": null,
      "outputs": [
        {
          "output_type": "stream",
          "name": "stdout",
          "text": [
            "('30', 39)\n"
          ]
        }
      ]
    },
    {
      "cell_type": "code",
      "source": [
        "a=10\n",
        "b=20\n",
        "list=[10,20,30,40,50]\n",
        "if(a in list):\n",
        " print('a is in given list')\n",
        "else:\n",
        " print('a is not in given list')\n",
        "if(b not in list):\n",
        " print('b is not given in list')\n",
        "else:\n",
        " print('b is given in list')"
      ],
      "metadata": {
        "colab": {
          "base_uri": "https://localhost:8080/"
        },
        "id": "wiygAZ6PSS-S",
        "outputId": "30dde55f-9cef-448a-c387-db62bd9c84e6"
      },
      "execution_count": null,
      "outputs": [
        {
          "output_type": "stream",
          "name": "stdout",
          "text": [
            "a is in given list\n",
            "b is given in list\n"
          ]
        }
      ]
    },
    {
      "cell_type": "code",
      "source": [
        "li=[\"aayush\",69,69.69,\"test\"]\n",
        "if\"aayush\" in li:\n",
        " print('\"aayush\" is in list')\n",
        "else:\n",
        " ('is not in list')\n",
        "li[1]=\"hello\"\n",
        "print(li)"
      ],
      "metadata": {
        "colab": {
          "base_uri": "https://localhost:8080/"
        },
        "id": "nek5VzqdZiOT",
        "outputId": "e2c0b4f0-e987-478b-fc44-bc3f9dfb3fd2"
      },
      "execution_count": null,
      "outputs": [
        {
          "output_type": "stream",
          "name": "stdout",
          "text": [
            "\"aayush\" is in list\n",
            "['aayush', 'hello', 69.69, 'test']\n"
          ]
        }
      ]
    },
    {
      "cell_type": "code",
      "source": [
        "li=[\"aayush\",69,69.69,\"test\"]\n",
        "a=input(\"enter name:\")\n",
        "li[-1]=a\n",
        "print(li)"
      ],
      "metadata": {
        "colab": {
          "base_uri": "https://localhost:8080/"
        },
        "id": "lg6Jc_-3fRtR",
        "outputId": "1757706d-dffa-4efd-cc57-2fd237486a1f"
      },
      "execution_count": null,
      "outputs": [
        {
          "output_type": "stream",
          "name": "stdout",
          "text": [
            "enter name:a\n",
            "['aayush', 69, 69.69, 'a']\n"
          ]
        }
      ]
    }
  ]
}