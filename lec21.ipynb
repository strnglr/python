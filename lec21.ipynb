{
  "cells": [
    {
      "cell_type": "code",
      "source": [
        "# Superclass A\n",
        "class A:\n",
        "    def __init__(self):\n",
        "        self.name = \"Class A\"\n",
        "\n",
        "    # Protected method (accessible by subclasses)\n",
        "    def _method_x(self):\n",
        "        print(\"Method X in \" + self.name)\n",
        "\n",
        "\n",
        "# Subclass B inheriting from A\n",
        "class B(A):\n",
        "    def __init__(self):\n",
        "        super().__init__()  # Inherit constructor from class A\n",
        "        self.name = \"Class B\"\n",
        "\n",
        "    # Protected method (accessible by subclasses)\n",
        "    def _method_y(self):\n",
        "        print(\"Method Y in \" + self.name)\n",
        "\n",
        "\n",
        "# Subclass C inheriting from B\n",
        "class C(B):\n",
        "    def __init__(self):\n",
        "        super().__init__()  # Inherit constructor from class B\n",
        "        self.name = \"Class C\"\n",
        "\n",
        "    # Class method (protected)\n",
        "    @classmethod\n",
        "    def _method_z(cls):\n",
        "        print(\"Method Z in Class \" + cls.__name__)\n",
        "\n",
        "\n",
        "# Testing the classes\n",
        "a = A()\n",
        "a._method_x()  # Calling protected method of A\n",
        "\n",
        "b = B()\n",
        "b._method_x()  # Inherited method from A\n",
        "b._method_y()  # Method of B\n",
        "\n",
        "c = C()\n",
        "c._method_x()  # Inherited method from A\n",
        "c._method_y()  # Inherited method from B\n",
        "C._method_z()"
      ],
      "metadata": {
        "colab": {
          "base_uri": "https://localhost:8080/"
        },
        "id": "z6yc1f85-X7D",
        "outputId": "c758f279-03cd-4872-8b57-7cea70edb348"
      },
      "execution_count": null,
      "outputs": [
        {
          "output_type": "stream",
          "name": "stdout",
          "text": [
            "Method X in Class A\n",
            "Method X in Class B\n",
            "Method Y in Class B\n",
            "Method X in Class C\n",
            "Method Y in Class C\n",
            "Method Z in Class C\n"
          ]
        }
      ]
    }
  ],
  "metadata": {
    "colab": {
      "provenance": [],
      "authorship_tag": "ABX9TyPvgC4Tlo+pIn8QVG2ehrcd"
    },
    "kernelspec": {
      "display_name": "Python 3",
      "name": "python3"
    },
    "language_info": {
      "name": "python"
    }
  },
  "nbformat": 4,
  "nbformat_minor": 0
}